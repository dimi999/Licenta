{
 "cells": [
  {
   "cell_type": "code",
   "execution_count": 188,
   "metadata": {},
   "outputs": [],
   "source": [
    "import gymnasium as gym\n",
    "import numpy as np\n",
    "from random import sample\n",
    "import pandas as pd\n",
    "from utilities import split_in_blocks, float_to_bits, int_to_bits\n",
    "from constants import parameters_dict\n",
    "import math\n",
    "\n",
    "class CompressionEnv(gym.Env):\n",
    "    def __init__(self):\n",
    "        self.action_space = gym.spaces.Box(low=np.array([0, 0, 0, 0, 0, 0, 0, 0, 0]), high=np.array([5, 5, 5, 5, 5, 7, 1, 1, 1]), shape=(9,),  dtype=np.float64)\n",
    "        self.observation_space = gym.spaces.Box(low=np.array([0 for i in range(34 * 8)] ), high=np.array([255 for i in range(34 * 8)]), shape=(34 * 8,),  dtype=np.float32)\n",
    "        self.idx = 0\n",
    "        self.timeseries = ['monthly-beer-production.csv', 'monthly-housing.csv', 'Twitter_volume_AMZN.csv', 'nyc_taxi.csv', 'network.csv', 'monthly-housing.csv', 'cpu_utilization.csv', 'art-price.csv', 'Electric_Production.csv', 'Gold.csv', 'Electric_Production.csv', 'daily-temperatures.csv', 'oil.csv', 'transactions.csv']\n",
    "        self.timestamps = []\n",
    "        self.metrics = []\n",
    "        self.crt_vec = 'timestamps'\n",
    "        self.paramters = parameters_dict\n",
    "        self.last_2_time = []\n",
    "        self.last_2_metric = []\n",
    "        self.get_ts()\n",
    "        \n",
    "\n",
    "    def get_ts(self):\n",
    "        my_ts = sample(self.timeseries, 1)\n",
    "        df = pd.read_csv(my_ts[0])\n",
    "\n",
    "        try:\n",
    "            #Convert the date to timestamp\n",
    "            self.timestamps = pd.to_datetime(df['DATE'], format='%Y-%m-%d').astype(np.int64).values // 1000000\n",
    "        except:\n",
    "            try:\n",
    "                self.timestamps = pd.to_datetime(df['DATE'], format='%d-%m-%Y').astype(np.int64).values // 1000000\n",
    "            except:\n",
    "                try:\n",
    "                    self.timestamps = pd.to_datetime(df['DATE'], format='%m-%d-%Y').astype(np.int64).values // 1000000\n",
    "                except:\n",
    "                    try:\n",
    "                        self.timestamps = pd.to_datetime(df['DATE'], format='%Y/%d/%m').astype(np.int64).values // 1000000\n",
    "                    except:\n",
    "                        try:\n",
    "                            self.timestamps = pd.to_datetime(df['DATE'], format='%d/%m/%Y').astype(np.int64).values // 1000000\n",
    "                        except:\n",
    "                            try:\n",
    "                                self.timestamps = pd.to_datetime(df['DATE'], format='%m/%d/%Y').astype(np.int64).values // 1000000\n",
    "                            except:\n",
    "                                try:\n",
    "                                    self.timestamps = pd.to_datetime(df['DATE'], format='%Y-%m').astype(np.int64).values // 1000000\n",
    "                                except:\n",
    "                                    self.timestamps = pd.to_datetime(df['DATE'], format='%Y-%m-%d %H:%M:%S').astype(np.int64).values // 1000000\n",
    "        self.metrics = (df.iloc[:, 1]).astype(np.float64).values\n",
    "        self.metrics[np.isnan(self.metrics)==True] = 0\n",
    "        self.last_2_time = self.timestamps[:2]\n",
    "        self.last_2_metric = self.metrics[:2]\n",
    "        self.timestamps = split_in_blocks(self.timestamps[2:])\n",
    "        self.metrics = split_in_blocks(self.metrics[2:])\n",
    "\n",
    "        self.state = self.timestamps[0]\n",
    "\n",
    "    def bytes(self, vec):\n",
    "        res = []\n",
    "        for x in vec:\n",
    "            if self.crt_vec == 'timestamps':\n",
    "                y = int_to_bits(x)\n",
    "            else:\n",
    "                y = float_to_bits(x)\n",
    "            for start in range(0, 64, 8):\n",
    "                byte = y[start:start+8]\n",
    "                byte = int(byte, 2)\n",
    "                res.append(byte)\n",
    "        return np.asarray(res).astype(np.float32)\n",
    "\n",
    "    def step(self, action):\n",
    "        params = np.round(action).astype(int)\n",
    "        bits_count = self.compress(params)\n",
    "\n",
    "        reward = self.evaluate(self.state, bits_count)\n",
    "        self.idx += 1\n",
    "        if self.idx >= len(self.timestamps) and self.crt_vec == 'timestamps':\n",
    "            self.idx = 0\n",
    "            self.crt_vec = 'metrics'\n",
    "        elif self.idx >= len(self.metrics) and self.crt_vec == 'metrics':\n",
    "            state = np.pad(self.state, (0, 32 - len(self.state)), 'constant', constant_values=(-1e14, ))\n",
    "            return self.bytes(np.concatenate([self.last_2_time, state])), reward, True, False, {}\n",
    "\n",
    "        if self.crt_vec == 'timestamps':\n",
    "            self.state = self.timestamps[self.idx]\n",
    "        else:\n",
    "            self.state = self.metrics[self.idx]\n",
    "\n",
    "        if self.crt_vec == 'timestamps':\n",
    "            if len(self.state) == 32:\n",
    "                return self.bytes(np.concatenate([self.last_2_time, self.state])), reward, False, False, {}\n",
    "            state = np.pad(self.state, (0, 32 - len(self.state)), 'constant', constant_values=(-1e14, ))\n",
    "            return self.bytes(np.concatenate([self.last_2_time, state])), reward, False, False, {}\n",
    "        else:\n",
    "            if len(self.state) == 32:\n",
    "                return self.bytes(np.concatenate([self.last_2_metric, self.state])), reward, False, False, {}\n",
    "            state = np.pad(self.state, (0, 32 - len(self.state)), 'constant', constant_values=(-1e14, ))\n",
    "            return self.bytes(np.concatenate([self.last_2_metric, state])), reward, False, False, {}\n",
    "        \n",
    "    def reset(self, seed=None):\n",
    "        self.get_ts()\n",
    "        self.crt_vec = 'timestamps'\n",
    "        return self.bytes(np.concatenate([self.last_2_time, self.state])), {}\n",
    "\n",
    "    def evaluate(self, original, compressed):\n",
    "        val = (compressed / (len(original) * 64))\n",
    "        return -math.tan(val) / 1.2 + 0.6\n",
    "\n",
    "    def compress(self, params):\n",
    "        transTypes = [self.paramters[1][params[0]], self.paramters[2][params[1]]]\n",
    "        transCodings = ['0', '1']\n",
    "        compressTypes = [self.paramters[4][params[2]], self.paramters[5][params[3]], self.paramters[6][params[4]]]\n",
    "        compressCodings = ['00', '01', '11']\n",
    "        offByteShift1 = params[5]\n",
    "        offByteShift2 = params[6]\n",
    "        offByteShift3 = params[7]\n",
    "        offBitmask = params[8] \n",
    "        #endian = params[10]\n",
    "\n",
    "        sum = 0\n",
    "\n",
    "        for i in range(0, len(self.state) - 1, 2):\n",
    "\n",
    "            first, second = self.state[i], self.state[i + 1]\n",
    "            opt1 = 64\n",
    "            opt2 = 64\n",
    "\n",
    "            if self.crt_vec == 'timestamps':\n",
    "                last_2 = self.last_2_time\n",
    "            else:\n",
    "                last_2 = self.last_2_metric\n",
    "            val1 = val2 = 0\n",
    "            for transformer in transTypes:\n",
    "                if self.crt_vec == 'metrics':\n",
    "                    val1 = transformer(last_2[0], last_2[1], first)\n",
    "                    val2 = transformer(last_2[1], first, second)\n",
    "                else:\n",
    "                    val1 = transformer(last_2[0], last_2[1], first)\n",
    "                    val2 = transformer(last_2[1], first, second)\n",
    "\n",
    "                if self.crt_vec == 'timestamps':\n",
    "                    val1 = int_to_bits(val1)\n",
    "                    val2 = int_to_bits(val2)\n",
    "                else:\n",
    "                    val1 = float_to_bits(val1)\n",
    "                    val2 = float_to_bits(val2)\n",
    "\n",
    "                for (compresser, param) in  compressTypes:\n",
    "                    if compresser.__name__ == 'bitmask' and param == 2:\n",
    "                        if self.crt_vec == 'timestamps':\n",
    "                            self.last_2_time = [self.state[i], self.state[i + 1]]\n",
    "                        else:\n",
    "                            self.last_2_metric = [self.state[i], self.state[i + 1]]\n",
    "                        continue\n",
    "                    else:\n",
    "                        if compresser.__name__ == 'offset':\n",
    "                            match param:\n",
    "                                case 1:\n",
    "                                    opt1 = min(opt1, compresser(val1, offByteShift1))\n",
    "                                    opt2 = min(opt2, compresser(val2, offByteShift1))\n",
    "                                case 2:\n",
    "                                    if offByteShift1 - offByteShift2 >= 0:\n",
    "                                        opt1 = min(opt1, compresser(val1, offByteShift1 - offByteShift2))\n",
    "                                        opt2 = min(opt2, compresser(val2, offByteShift1 - offByteShift2))\n",
    "                                case 3:\n",
    "                                    if offByteShift1 - offByteShift2 - offByteShift3 >= 0:\n",
    "                                        opt1 = min(opt1, compresser(val1, offByteShift1 - offByteShift2 - offByteShift3))\n",
    "                                        opt2 = min(opt2, compresser(val2, offByteShift1 - offByteShift2 - offByteShift3))\n",
    "                        elif compresser.__name__ == 'bitmask':\n",
    "                            opt1 = min(opt1, compresser(val1, offBitmask))\n",
    "                            opt2 = min(opt1, compresser(val2, offBitmask))\n",
    "                        else:\n",
    "                            opt1 = min(opt1, compresser(val1))\n",
    "                            opt2 = min(opt1, compresser(val2))\n",
    "            if self.crt_vec == 'timestamps':\n",
    "                self.last_2_time = [self.state[i], self.state[i + 1]]\n",
    "            else:\n",
    "                self.last_2_metric = [self.state[i], self.state[i + 1]]\n",
    "            sum += opt1 + opt2\n",
    "        return sum\n",
    "\n",
    "\n",
    "    def render(self):\n",
    "        #useless\n",
    "        pass\n",
    "\n",
    "    def close(self):\n",
    "        #useless\n",
    "        pass"
   ]
  },
  {
   "cell_type": "code",
   "execution_count": 203,
   "metadata": {},
   "outputs": [
    {
     "name": "stdout",
     "output_type": "stream",
     "text": [
      "-0.10581868685286928 0.5232870047489497 18\n"
     ]
    }
   ],
   "source": [
    "env = CompressionEnv()\n",
    "action = env.action_space.sample()\n",
    "state, reward, done, truncated, info = env.step(action)\n",
    "sum = reward\n",
    "ct = 1\n",
    "maxi = 0\n",
    "while not done:\n",
    "    action = env.action_space.sample()\n",
    "    state, reward, done, truncarted, info = env.step(action)\n",
    "    #print(reward, action, state)\n",
    "    maxi = max(maxi, reward)\n",
    "    sum += reward\n",
    "    ct += 1\n",
    "print(sum / ct, maxi, ct)"
   ]
  },
  {
   "cell_type": "code",
   "execution_count": 12,
   "metadata": {},
   "outputs": [
    {
     "name": "stderr",
     "output_type": "stream",
     "text": [
      "2024-05-24 20:11:48.918758: E external/local_xla/xla/stream_executor/cuda/cuda_dnn.cc:9261] Unable to register cuDNN factory: Attempting to register factory for plugin cuDNN when one has already been registered\n",
      "2024-05-24 20:11:48.918810: E external/local_xla/xla/stream_executor/cuda/cuda_fft.cc:607] Unable to register cuFFT factory: Attempting to register factory for plugin cuFFT when one has already been registered\n",
      "2024-05-24 20:11:48.919905: E external/local_xla/xla/stream_executor/cuda/cuda_blas.cc:1515] Unable to register cuBLAS factory: Attempting to register factory for plugin cuBLAS when one has already been registered\n",
      "2024-05-24 20:11:48.925921: I tensorflow/core/platform/cpu_feature_guard.cc:182] This TensorFlow binary is optimized to use available CPU instructions in performance-critical operations.\n",
      "To enable the following instructions: AVX2 FMA, in other operations, rebuild TensorFlow with the appropriate compiler flags.\n",
      "2024-05-24 20:11:49.692579: W tensorflow/compiler/tf2tensorrt/utils/py_utils.cc:38] TF-TRT Warning: Could not find TensorRT\n"
     ]
    },
    {
     "name": "stdout",
     "output_type": "stream",
     "text": [
      "[  0.   0.   0. 110.  55. 251.   4.   0.   0.   0.   0. 110.  61.  33.\n",
      "  96.   0.   0.   0.   0. 110.  66.  71. 188.   0.   0.   0.   0. 110.\n",
      "  71. 110.  24.   0.   0.   0.   0. 110.  76. 148. 116.   0.   0.   0.\n",
      "   0. 110.  81. 186. 208.   0.   0.   0.   0. 110.  86. 225.  44.   0.\n",
      "   0.   0.   0. 110.  92.   7. 136.   0.   0.   0.   0. 110.  97.  45.\n",
      " 228.   0.   0.   0.   0. 110. 102.  84.  64.   0.   0.   0.   0. 110.\n",
      " 107. 122. 156.   0.   0.   0.   0. 110. 112. 160. 248.   0.   0.   0.\n",
      "   0. 117. 143. 172.  48.   0.   0.   0.   0. 117. 148. 210. 140.   0.\n",
      "   0.   0.   0. 117. 153. 248. 232.   0.   0.   0.   0. 117. 159.  31.\n",
      "  68.   0.   0.   0.   0. 117. 164.  69. 160.   0.   0.   0.   0. 117.\n",
      " 169. 107. 252.   0.   0.   0.   0. 117. 174. 146.  88.   0.   0.   0.\n",
      "   0. 117. 179. 184. 180.   0.   0.   0.   0. 117. 184. 223.  16.   0.\n",
      "   0.   0.   0. 117. 190.   5. 108.   0.   0.   0.   0. 117. 195.  43.\n",
      " 200.   0.   0.   0.   0. 117. 200.  82.  36.   0.   0.   0.   0. 124.\n",
      " 231.  93.  92.   0.   0.   0.   0. 124. 236. 131. 184.   0.   0.   0.\n",
      "   0. 124. 241. 170.  20.   0.   0.   0.   0. 124. 246. 208. 112.   0.\n",
      "   0.   0.   0. 124. 251. 246. 204.   0.   0.   0.   0. 125.   1.  29.\n",
      "  40.   0.   0.   0.   0. 125.   6.  67. 132.   0.   0.   0.   0. 125.\n",
      "  11. 105. 224.   0.   0.   0.   0. 125.  16. 144.  60.   0.   0.   0.\n",
      "   0. 125.  21. 182. 152.   0.]\n"
     ]
    },
    {
     "name": "stderr",
     "output_type": "stream",
     "text": [
      "/home/dimi/.local/lib/python3.10/site-packages/stable_baselines3/common/env_checker.py:453: UserWarning: We recommend you to use a symmetric and normalized Box action space (range=[-1, 1]) cf. https://stable-baselines3.readthedocs.io/en/master/guide/rl_tips.html\n",
      "  warnings.warn(\n",
      "/home/dimi/.local/lib/python3.10/site-packages/stable_baselines3/common/env_checker.py:464: UserWarning: Your action space has dtype float64, we recommend using np.float32 to avoid cast errors.\n",
      "  warnings.warn(\n"
     ]
    }
   ],
   "source": [
    "from stable_baselines3.common.env_checker import check_env\n",
    "env = CompressionEnv()\n",
    "obs, _ = env.reset()\n",
    "print(obs)\n",
    "check_env(env)"
   ]
  },
  {
   "cell_type": "code",
   "execution_count": null,
   "metadata": {},
   "outputs": [],
   "source": [
    "import warnings\n",
    "warnings.filterwarnings(\"ignore\", category=np.VisibleDeprecationWarning) "
   ]
  },
  {
   "cell_type": "code",
   "execution_count": 13,
   "metadata": {},
   "outputs": [
    {
     "name": "stdout",
     "output_type": "stream",
     "text": [
      "Using cuda device\n"
     ]
    },
    {
     "data": {
      "application/vnd.jupyter.widget-view+json": {
       "model_id": "ac6f9e131a304c79ac924299a33f8229",
       "version_major": 2,
       "version_minor": 0
      },
      "text/plain": [
       "Output()"
      ]
     },
     "metadata": {},
     "output_type": "display_data"
    },
    {
     "name": "stdout",
     "output_type": "stream",
     "text": [
      "---------------------------------\n",
      "| time/              |          |\n",
      "|    episodes        | 4        |\n",
      "|    fps             | 131      |\n",
      "|    time_elapsed    | 2        |\n",
      "|    total_timesteps | 387      |\n",
      "| train/             |          |\n",
      "|    actor_loss      | 13.1     |\n",
      "|    critic_loss     | 0.511    |\n",
      "|    learning_rate   | 0.001    |\n",
      "|    n_updates       | 286      |\n",
      "---------------------------------\n"
     ]
    },
    {
     "name": "stdout",
     "output_type": "stream",
     "text": [
      "---------------------------------\n",
      "| time/              |          |\n",
      "|    episodes        | 8        |\n",
      "|    fps             | 105      |\n",
      "|    time_elapsed    | 57       |\n",
      "|    total_timesteps | 6054     |\n",
      "| train/             |          |\n",
      "|    actor_loss      | 3.15     |\n",
      "|    critic_loss     | 0.541    |\n",
      "|    learning_rate   | 0.001    |\n",
      "|    n_updates       | 5953     |\n",
      "---------------------------------\n"
     ]
    },
    {
     "name": "stdout",
     "output_type": "stream",
     "text": [
      "---------------------------------\n",
      "| time/              |          |\n",
      "|    episodes        | 12       |\n",
      "|    fps             | 103      |\n",
      "|    time_elapsed    | 134      |\n",
      "|    total_timesteps | 13922    |\n",
      "| train/             |          |\n",
      "|    actor_loss      | -7.34    |\n",
      "|    critic_loss     | 0.113    |\n",
      "|    learning_rate   | 0.001    |\n",
      "|    n_updates       | 13821    |\n",
      "---------------------------------\n"
     ]
    },
    {
     "name": "stdout",
     "output_type": "stream",
     "text": [
      "---------------------------------\n",
      "| time/              |          |\n",
      "|    episodes        | 16       |\n",
      "|    fps             | 101      |\n",
      "|    time_elapsed    | 215      |\n",
      "|    total_timesteps | 21765    |\n",
      "| train/             |          |\n",
      "|    actor_loss      | -15.5    |\n",
      "|    critic_loss     | 0.117    |\n",
      "|    learning_rate   | 0.001    |\n",
      "|    n_updates       | 21664    |\n",
      "---------------------------------\n"
     ]
    },
    {
     "name": "stdout",
     "output_type": "stream",
     "text": [
      "---------------------------------\n",
      "| time/              |          |\n",
      "|    episodes        | 20       |\n",
      "|    fps             | 101      |\n",
      "|    time_elapsed    | 318      |\n",
      "|    total_timesteps | 32363    |\n",
      "| train/             |          |\n",
      "|    actor_loss      | -22.7    |\n",
      "|    critic_loss     | 0.362    |\n",
      "|    learning_rate   | 0.001    |\n",
      "|    n_updates       | 32262    |\n",
      "---------------------------------\n"
     ]
    },
    {
     "name": "stdout",
     "output_type": "stream",
     "text": [
      "---------------------------------\n",
      "| time/              |          |\n",
      "|    episodes        | 24       |\n",
      "|    fps             | 101      |\n",
      "|    time_elapsed    | 370      |\n",
      "|    total_timesteps | 37794    |\n",
      "| train/             |          |\n",
      "|    actor_loss      | -26      |\n",
      "|    critic_loss     | 0.239    |\n",
      "|    learning_rate   | 0.001    |\n",
      "|    n_updates       | 37693    |\n",
      "---------------------------------\n"
     ]
    },
    {
     "name": "stdout",
     "output_type": "stream",
     "text": [
      "---------------------------------\n",
      "| time/              |          |\n",
      "|    episodes        | 28       |\n",
      "|    fps             | 101      |\n",
      "|    time_elapsed    | 371      |\n",
      "|    total_timesteps | 37899    |\n",
      "| train/             |          |\n",
      "|    actor_loss      | -26.3    |\n",
      "|    critic_loss     | 0.406    |\n",
      "|    learning_rate   | 0.001    |\n",
      "|    n_updates       | 37798    |\n",
      "---------------------------------\n"
     ]
    },
    {
     "name": "stdout",
     "output_type": "stream",
     "text": [
      "---------------------------------\n",
      "| time/              |          |\n",
      "|    episodes        | 32       |\n",
      "|    fps             | 102      |\n",
      "|    time_elapsed    | 425      |\n",
      "|    total_timesteps | 43506    |\n",
      "| train/             |          |\n",
      "|    actor_loss      | -27.8    |\n",
      "|    critic_loss     | 0.367    |\n",
      "|    learning_rate   | 0.001    |\n",
      "|    n_updates       | 43405    |\n",
      "---------------------------------\n"
     ]
    },
    {
     "name": "stdout",
     "output_type": "stream",
     "text": [
      "---------------------------------\n",
      "| time/              |          |\n",
      "|    episodes        | 36       |\n",
      "|    fps             | 102      |\n",
      "|    time_elapsed    | 428      |\n",
      "|    total_timesteps | 43812    |\n",
      "| train/             |          |\n",
      "|    actor_loss      | -27.2    |\n",
      "|    critic_loss     | 0.693    |\n",
      "|    learning_rate   | 0.001    |\n",
      "|    n_updates       | 43711    |\n",
      "---------------------------------\n"
     ]
    },
    {
     "name": "stdout",
     "output_type": "stream",
     "text": [
      "---------------------------------\n",
      "| time/              |          |\n",
      "|    episodes        | 40       |\n",
      "|    fps             | 102      |\n",
      "|    time_elapsed    | 481      |\n",
      "|    total_timesteps | 49160    |\n",
      "| train/             |          |\n",
      "|    actor_loss      | -30.3    |\n",
      "|    critic_loss     | 5.76     |\n",
      "|    learning_rate   | 0.001    |\n",
      "|    n_updates       | 49059    |\n",
      "---------------------------------\n"
     ]
    },
    {
     "name": "stdout",
     "output_type": "stream",
     "text": [
      "---------------------------------\n",
      "| time/              |          |\n",
      "|    episodes        | 44       |\n",
      "|    fps             | 102      |\n",
      "|    time_elapsed    | 485      |\n",
      "|    total_timesteps | 49584    |\n",
      "| train/             |          |\n",
      "|    actor_loss      | -31      |\n",
      "|    critic_loss     | 0.322    |\n",
      "|    learning_rate   | 0.001    |\n",
      "|    n_updates       | 49483    |\n",
      "---------------------------------\n"
     ]
    },
    {
     "data": {
      "text/html": [
       "<pre style=\"white-space:pre;overflow-x:auto;line-height:normal;font-family:Menlo,'DejaVu Sans Mono',consolas,'Courier New',monospace\"></pre>\n"
      ],
      "text/plain": []
     },
     "metadata": {},
     "output_type": "display_data"
    },
    {
     "data": {
      "text/html": [
       "<pre style=\"white-space:pre;overflow-x:auto;line-height:normal;font-family:Menlo,'DejaVu Sans Mono',consolas,'Courier New',monospace\">\n",
       "</pre>\n"
      ],
      "text/plain": [
       "\n"
      ]
     },
     "metadata": {},
     "output_type": "display_data"
    }
   ],
   "source": [
    "#Use SAC from stable baselines\n",
    "from stable_baselines3 import TD3\n",
    "from stable_baselines3.sac.policies import MlpPolicy, MultiInputPolicy\n",
    "from stable_baselines3.common.vec_env import DummyVecEnv\n",
    "from stable_baselines3.common.noise import NormalActionNoise, OrnsteinUhlenbeckActionNoise\n",
    "\n",
    "env = CompressionEnv()\n",
    "env = DummyVecEnv([lambda: env])\n",
    "\n",
    "n_actions = env.action_space.shape[-1]\n",
    "action_noise = NormalActionNoise(mean=np.zeros(n_actions), sigma=0.1 * np.ones(n_actions))\n",
    "\n",
    "#Add progress bar for learning\n",
    "model = TD3('MlpPolicy', env, action_noise=action_noise, verbose=1)\n",
    "model3 = model.learn(total_timesteps=50000, progress_bar=True)\n"
   ]
  },
  {
   "cell_type": "code",
   "execution_count": 52,
   "metadata": {},
   "outputs": [
    {
     "data": {
      "application/vnd.jupyter.widget-view+json": {
       "model_id": "84bbabeaf26f400d9e23ca022613a811",
       "version_major": 2,
       "version_minor": 0
      },
      "text/plain": [
       "Output()"
      ]
     },
     "metadata": {},
     "output_type": "display_data"
    },
    {
     "name": "stdout",
     "output_type": "stream",
     "text": [
      "---------------------------------\n",
      "| time/              |          |\n",
      "|    episodes        | 20       |\n",
      "|    fps             | 100      |\n",
      "|    time_elapsed    | 270      |\n",
      "|    total_timesteps | 27040    |\n",
      "| train/             |          |\n",
      "|    actor_loss      | -42      |\n",
      "|    critic_loss     | 0.285    |\n",
      "|    learning_rate   | 0.001    |\n",
      "|    n_updates       | 276639   |\n",
      "---------------------------------\n"
     ]
    },
    {
     "name": "stdout",
     "output_type": "stream",
     "text": [
      "---------------------------------\n",
      "| time/              |          |\n",
      "|    episodes        | 40       |\n",
      "|    fps             | 98       |\n",
      "|    time_elapsed    | 548      |\n",
      "|    total_timesteps | 54147    |\n",
      "| train/             |          |\n",
      "|    actor_loss      | -44.1    |\n",
      "|    critic_loss     | 0.197    |\n",
      "|    learning_rate   | 0.001    |\n",
      "|    n_updates       | 303746   |\n",
      "---------------------------------\n"
     ]
    },
    {
     "name": "stdout",
     "output_type": "stream",
     "text": [
      "---------------------------------\n",
      "| time/              |          |\n",
      "|    episodes        | 60       |\n",
      "|    fps             | 96       |\n",
      "|    time_elapsed    | 786      |\n",
      "|    total_timesteps | 76087    |\n",
      "| train/             |          |\n",
      "|    actor_loss      | -42.6    |\n",
      "|    critic_loss     | 0.159    |\n",
      "|    learning_rate   | 0.001    |\n",
      "|    n_updates       | 325686   |\n",
      "---------------------------------\n"
     ]
    },
    {
     "name": "stdout",
     "output_type": "stream",
     "text": [
      "---------------------------------\n",
      "| time/              |          |\n",
      "|    episodes        | 80       |\n",
      "|    fps             | 96       |\n",
      "|    time_elapsed    | 908      |\n",
      "|    total_timesteps | 87862    |\n",
      "| train/             |          |\n",
      "|    actor_loss      | -43.8    |\n",
      "|    critic_loss     | 9.98     |\n",
      "|    learning_rate   | 0.001    |\n",
      "|    n_updates       | 337461   |\n",
      "---------------------------------\n"
     ]
    },
    {
     "name": "stdout",
     "output_type": "stream",
     "text": [
      "---------------------------------\n",
      "| time/              |          |\n",
      "|    episodes        | 100      |\n",
      "|    fps             | 96       |\n",
      "|    time_elapsed    | 984      |\n",
      "|    total_timesteps | 94993    |\n",
      "| train/             |          |\n",
      "|    actor_loss      | -42      |\n",
      "|    critic_loss     | 0.233    |\n",
      "|    learning_rate   | 0.001    |\n",
      "|    n_updates       | 344592   |\n",
      "---------------------------------\n"
     ]
    },
    {
     "data": {
      "text/html": [
       "<pre style=\"white-space:pre;overflow-x:auto;line-height:normal;font-family:Menlo,'DejaVu Sans Mono',consolas,'Courier New',monospace\"></pre>\n"
      ],
      "text/plain": []
     },
     "metadata": {},
     "output_type": "display_data"
    },
    {
     "data": {
      "text/html": [
       "<pre style=\"white-space:pre;overflow-x:auto;line-height:normal;font-family:Menlo,'DejaVu Sans Mono',consolas,'Courier New',monospace\">\n",
       "</pre>\n"
      ],
      "text/plain": [
       "\n"
      ]
     },
     "metadata": {},
     "output_type": "display_data"
    }
   ],
   "source": [
    "model3 = model.learn(total_timesteps=100000, progress_bar=True, log_interval=20)\n"
   ]
  },
  {
   "cell_type": "code",
   "execution_count": 53,
   "metadata": {},
   "outputs": [],
   "source": [
    "#save the model\n",
    "model.save(\"TD3_CompressionEnv\")"
   ]
  },
  {
   "cell_type": "code",
   "execution_count": null,
   "metadata": {},
   "outputs": [],
   "source": [
    "model2 = TD3('MlpPolicy', env, action_noise=action_noise, verbose=1)"
   ]
  },
  {
   "cell_type": "code",
   "execution_count": null,
   "metadata": {},
   "outputs": [],
   "source": [
    "import tensorflow as tf\n",
    "tf.config.list_physical_devices('GPU')"
   ]
  },
  {
   "cell_type": "code",
   "execution_count": 213,
   "metadata": {},
   "outputs": [
    {
     "name": "stdout",
     "output_type": "stream",
     "text": [
      "0.45448963897032\n",
      "ceva\n"
     ]
    }
   ],
   "source": [
    "env = CompressionEnv()\n",
    "obs, _ = env.reset()\n",
    "\n",
    "action, _states = model.predict(obs)\n",
    "state, reward, done, truncated, info = env.step(action)\n",
    "sum = reward\n",
    "ct = 1\n",
    "while not done:\n",
    "    action, _state = model.predict(state)\n",
    "    state, reward, done, truncarted, info = env.step(action)\n",
    "    #print(reward)\n",
    "    sum += reward\n",
    "    ct += 1\n",
    "print(sum / ct)\n",
    "print('ceva')"
   ]
  },
  {
   "cell_type": "code",
   "execution_count": null,
   "metadata": {},
   "outputs": [],
   "source": [
    "from transform_primitives import xor, delta_xor, delta, delta_of_delta, rev_delta, rev_delta_of_delta\n",
    "from compression_primitives import bitmask, offset, trailing_zero\n",
    "env = CompressionEnv()\n",
    "#env.get_ts()\n",
    "print(env.metrics[0])\n",
    "sample = env.metrics[0]\n",
    "prev = env.last_2_metric\n",
    "print(prev)\n",
    "transformers = [delta, delta_of_delta, rev_delta, rev_delta_of_delta]\n",
    "avg = 0\n",
    "ct = 0\n",
    "for j in range(len(env.metrics)):\n",
    "    sample = env.metrics[j]\n",
    "    for i in range(len(sample)):\n",
    "        ct += 1\n",
    "        mini = 64\n",
    "        for t in transformers:\n",
    "            val = t(prev[0], prev[1], sample[i])\n",
    "            val = int(num_to_bits(val), 2)\n",
    "            mini = min(mini, bitmask(val, 0), offset(val, 0), trailing_zero(val), offset(val, 1), offset(val, 2), bitmask(val, 1))\n",
    "        avg += mini\n",
    "        prev[0] = prev[1]\n",
    "        prev[1] = sample[i]\n",
    "print(avg / ct)\n",
    "#daily-temperature 61.26 avg\n",
    "#gold 61.82"
   ]
  },
  {
   "cell_type": "code",
   "execution_count": null,
   "metadata": {},
   "outputs": [],
   "source": [
    "action = [3, 0, 1, 3, 0, 1, 0, 0, 0, 0]\n",
    "env2 = CompressionEnv()\n",
    "print(env2.state)\n",
    "state, reward, done, truncated, info = env2.step(action)\n",
    "print(reward)"
   ]
  },
  {
   "cell_type": "code",
   "execution_count": null,
   "metadata": {},
   "outputs": [],
   "source": [
    "df = pd.read_csv('Gold.csv')\n",
    "x = pd.to_datetime(df['DATE'], format='%Y/%m/%d')\n",
    "print(x.astype(np.int64))"
   ]
  },
  {
   "cell_type": "code",
   "execution_count": null,
   "metadata": {},
   "outputs": [],
   "source": [
    "from utilities import int_to_bits, float_to_bits\n",
    "print(int_to_bits(57), float_to_bits(2.257))"
   ]
  }
 ],
 "metadata": {
  "kernelspec": {
   "display_name": "Python 3",
   "language": "python",
   "name": "python3"
  },
  "language_info": {
   "codemirror_mode": {
    "name": "ipython",
    "version": 3
   },
   "file_extension": ".py",
   "mimetype": "text/x-python",
   "name": "python",
   "nbconvert_exporter": "python",
   "pygments_lexer": "ipython3",
   "version": "3.10.12"
  }
 },
 "nbformat": 4,
 "nbformat_minor": 2
}
