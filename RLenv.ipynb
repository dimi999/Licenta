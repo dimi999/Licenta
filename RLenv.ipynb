{
 "cells": [
  {
   "cell_type": "code",
   "execution_count": 17,
   "metadata": {},
   "outputs": [],
   "source": [
    "import gymnasium as gym\n",
    "import numpy as np\n",
    "from random import sample\n",
    "import pandas as pd\n",
    "from utilities import split_in_blocks, float_to_bits, int_to_bits, read_timestamps, bits_to_int, unsigned_to_signed, bits_to_int_unsigned, bits_to_float\n",
    "from transform_primitives import delta_of_delta\n",
    "from compression_primitives import bitmask, trailing_zero\n",
    "from constants import parameters_dict\n",
    "import math\n",
    "import struct\n",
    "import ammmo_lazy as aml\n",
    "\n",
    "class CompressionEnv(gym.Env):\n",
    "    def __init__(self):\n",
    "        self.action_space = gym.spaces.Box(low=np.array([0, 0, 0, 0, 0, 0, 0, 0]), high=np.array([3, 5, 5, 5, 7, 1, 1, 5]), shape=(8,),  dtype=np.float64)\n",
    "        self.observation_space = gym.spaces.Box(low=np.array([0 for i in range(34 * 8)] ), high=np.array([1 for i in range(34 * 8)]), shape=(34 * 8,),  dtype=np.float32)\n",
    "        self.idx = 0\n",
    "        self.timeseries = ['grok_asg_anomaly.csv', 'occupancy_t4013.csv','Sunspots.csv', 'monthly-beer-production.csv', 'monthly-housing.csv', 'cpu_utilization.csv', 'art-price.csv', 'Gold.csv', 'Electric_Production.csv', 'daily-temperatures.csv', 'oil.csv', 'rogue_agent_key_updown.csv']\n",
    "        self.timestamps = []\n",
    "        self.timestamps_ratio = 0\n",
    "        self.metrics = []\n",
    "        self.paramters = parameters_dict\n",
    "        self.last_2_metric = []\n",
    "        self.compressed_block = ''\n",
    "        self.compare_ratio = 0\n",
    "        self.get_ts()\n",
    "        \n",
    "\n",
    "    def get_ts(self):\n",
    "        my_ts = sample(self.timeseries, 1)\n",
    "        #print(my_ts[0])\n",
    "        df = pd.read_csv(my_ts[0])\n",
    "        self.timestamps = read_timestamps(df)\n",
    "        self.timestamps_ratio, compression = self.compress_timestamps(self.timestamps)\n",
    "        self.idx = 0\n",
    "        \n",
    "        self.metrics = (df.iloc[:, 1]).astype(np.float64).values\n",
    "        self.metrics[np.isnan(self.metrics)==True] = 0\n",
    "        self.timestamps[np.isnan(self.timestamps)==True] = 0\n",
    "        self.last_2_metric = self.metrics[:2]\n",
    "        self.metrics = split_in_blocks(self.metrics[2:])\n",
    "\n",
    "        self.state = self.metrics[0]\n",
    "\n",
    "    def compress_timestamps(self, timestamps):\n",
    "        sum = 192\n",
    "        header = int_to_bits(len(timestamps) - 2)\n",
    "        data = int_to_bits(timestamps[0]) + int_to_bits(timestamps[1])\n",
    "        last_2 = [timestamps[0], timestamps[1]]\n",
    "\n",
    "        for i in range(2, len(timestamps)):\n",
    "            val = delta_of_delta(last_2[0], last_2[1], timestamps[i])\n",
    "            if val == 0:\n",
    "                header += '0'\n",
    "                sum += 1\n",
    "            else:\n",
    "                header += '1'\n",
    "                sum += 1\n",
    "                if val > 0:\n",
    "                    val -= 1\n",
    "                if -3 <= val <= 4:\n",
    "                    data += '1'\n",
    "                    sum += 4\n",
    "                    data += int_to_bits(val)[-3:]\n",
    "                elif -31 <= val <= 32:\n",
    "                    data += '01'\n",
    "                    sum += 8\n",
    "                    data += int_to_bits(val)[-6:]\n",
    "                else:\n",
    "                    ct_bitmask, compressed_bitmask = bitmask(int_to_bits(val), 0)\n",
    "                    ct_trailing_zeros, compressed_trailing = trailing_zero(int_to_bits(val))\n",
    "\n",
    "                    if ct_bitmask < ct_trailing_zeros:\n",
    "                        data += '001'\n",
    "                        sum += ct_bitmask + 3\n",
    "                        data += compressed_bitmask\n",
    "                    else:\n",
    "                        data += '000'\n",
    "                        sum += ct_trailing_zeros + 3\n",
    "                        data += compressed_trailing\n",
    "            last_2 = [last_2[1], timestamps[i]]\n",
    "        \n",
    "        return (len(timestamps) * 64 / sum), header + data\n",
    "\n",
    "    def decompress_timestamps(self, compressed):\n",
    "        size = int(compressed[:64], 2)\n",
    "        header = compressed[64:64+size]\n",
    "        data = compressed[64+size:]\n",
    "\n",
    "        orig_timestamps = []\n",
    "\n",
    "        orig_timestamps.append(int(data[:64], 2))\n",
    "        orig_timestamps.append(int(data[64:128], 2))\n",
    "\n",
    "        last_2 = [orig_timestamps[0], orig_timestamps[1]]\n",
    "\n",
    "        data_idx = 128\n",
    "\n",
    "        for x in header:\n",
    "            if x == '0':\n",
    "                orig_timestamps.append(2 * last_2[1] - last_2[0])\n",
    "            else:\n",
    "                if data[data_idx] == '1':\n",
    "                    val = bits_to_int(data[data_idx+1:data_idx+4])\n",
    "                    if val >= 0:\n",
    "                        val += 1\n",
    "                    orig_timestamps.append(val + 2 * last_2[1] - last_2[0])\n",
    "                    data_idx += 4\n",
    "                else:\n",
    "                    if data[data_idx+1] == '1':\n",
    "                        val = bits_to_int(data[data_idx+2:data_idx+8])\n",
    "                        if val >= 0:\n",
    "                            val += 1\n",
    "                        orig_timestamps.append(val + 2 * last_2[1] - last_2[0])\n",
    "                        data_idx += 8\n",
    "                    else:\n",
    "                        val = 0\n",
    "                        if data[data_idx+2] == '1':\n",
    "                            last_bit = data_idx + 11\n",
    "                            mask = data[data_idx+3:data_idx+11]\n",
    "                            for bit in mask:\n",
    "                                if bit == '0':\n",
    "                                    val <<= 8\n",
    "                                else:\n",
    "                                    crt_byte = data[last_bit:last_bit+8]\n",
    "                                    val = (val << 8) + int(crt_byte, 2)\n",
    "                                    last_bit += 8\n",
    "                            data_idx = last_bit + 8\n",
    "                        else:\n",
    "                            ct_zero_bytes = int(data[data_idx+3:data_idx+6], 2)\n",
    "                            ct_non_zero_bytes = int(data[data_idx+6:data_idx+9], 2) + 1\n",
    "\n",
    "                            for i in range(ct_non_zero_bytes):\n",
    "                                crt_byte = data[data_idx+9+i*8:data_idx+9+(i+1)*8]\n",
    "                                val = (val << 8) + int(crt_byte, 2)\n",
    "                            val = (val << 8 * ct_zero_bytes)\n",
    "                            data_idx += 9 + ct_non_zero_bytes * 8\n",
    "                        val = unsigned_to_signed(val)\n",
    "                        if val >= 0:\n",
    "                            val += 1\n",
    "                        orig_timestamps.append(val + 2 * last_2[1] - last_2[0])\n",
    "                            \n",
    "            last_2 = [last_2[1], orig_timestamps[-1]]\n",
    "        return orig_timestamps\n",
    "\n",
    "\n",
    "    def bytes(self, vec):\n",
    "        res = []\n",
    "        for x in vec:\n",
    "            y = float_to_bits(x)\n",
    "            for start in range(0, 64, 8):\n",
    "                byte = y[start:start+8]\n",
    "                byte = int(byte, 2)\n",
    "                res.append(byte / 255)\n",
    "        return np.asarray(res).astype(np.float32)\n",
    "\n",
    "    def decompress_metrics(self, compressed_block):\n",
    "        params = compressed_block[:19]\n",
    "        header = compressed_block[19:51]\n",
    "        majorMode = bits_to_int_unsigned(params[:2])\n",
    "        transTypes = [self.paramters[4][bits_to_int_unsigned(params[2:5])], self.paramters[4][bits_to_int_unsigned(params[5:8])], self.paramters[4][bits_to_int_unsigned(params[8:11])]]\n",
    "        encodings = {\n",
    "            '00': 0,\n",
    "            '01': 1,\n",
    "            '10': 2,\n",
    "            '11': 3\n",
    "        }\n",
    "        possibilites = self.paramters[3][majorMode]\n",
    "        offByteShift1 = bits_to_int_unsigned(params[11:14])\n",
    "        offByteShift2 = bits_to_int_unsigned(params[14:15])\n",
    "        offByteShift3 = bits_to_int_unsigned(params[15:16])\n",
    "        offBitmask = bits_to_int_unsigned(params[16:19])\n",
    "        proper_block = compressed_block[51:]\n",
    "\n",
    "        orig_block = []\n",
    "        prev = self.last_2_metric\n",
    "        step = 0\n",
    "\n",
    "        for x in header:\n",
    "            if x == '0':\n",
    "                orig_block.append(prev[1])\n",
    "                prev = [prev[1], orig_block[-1]]\n",
    "            else:\n",
    "                encoding = proper_block[step:step+2]\n",
    "                idx = encodings[encoding]\n",
    "                step += 2\n",
    "                transIdx, compresser, mode = possibilites[idx]\n",
    "\n",
    "                if compresser.__name__ == 'bitmask':\n",
    "                    mask = proper_block[step: step + 8 - offBitmask]\n",
    "                    val = ''\n",
    "                    step = step + 8 - offBitmask\n",
    "                    for j in mask:\n",
    "                        if j == '0':\n",
    "                            val += '00000000'\n",
    "                        else:\n",
    "                            val += proper_block[step:step + 8]\n",
    "                            step += 8\n",
    "                    val += (offBitmask * 8) * '0'\n",
    "                    val = bits_to_float(val)\n",
    "                    orig_block.append(transTypes[transIdx](prev[0], prev[1], val))\n",
    "                elif compresser.__name__ == 'offset':\n",
    "                    offset = offByteShift1\n",
    "                    match mode:\n",
    "                        case 1:\n",
    "                            offset = offByteShift1\n",
    "                        case 2:\n",
    "                            offset = offByteShift1 - offByteShift2\n",
    "                        case 3:\n",
    "                            offset = offByteShift1 - offByteShift2 - offByteShift3\n",
    "                    leading_zeros = 64 - offset * 8 - mode * 7\n",
    "                    val = '0' * leading_zeros + proper_block[step:step+mode * 7] + '0' * (offset * 8)\n",
    "                    value = bits_to_float(val)\n",
    "                    value = transTypes[transIdx](prev[0], prev[1], value)\n",
    "                    orig_block.append(value)\n",
    "                    step = step + mode * 7\n",
    "                else:\n",
    "                    if proper_block[step:step+4] == '1111':\n",
    "                        val = transTypes[transIdx](prev[0], prev[1], 0.0)\n",
    "                        step = step + 4\n",
    "                        orig_block.append(val)\n",
    "                    else:\n",
    "                        ct_zero_bytes = int(proper_block[step:step+3], 2)\n",
    "                        ct_non_zero_bytes = int(proper_block[step+3:step+6], 2) + 1\n",
    "\n",
    "                        val = 8 * (8 - ct_zero_bytes - ct_non_zero_bytes) * '0'\n",
    "\n",
    "                        for j in range(ct_non_zero_bytes):\n",
    "                            crt_byte = proper_block[step+6+j*8:step+6+(j+1)*8]\n",
    "                            val += crt_byte\n",
    "                        val += ct_zero_bytes * 8 * '0'\n",
    "                        step += 6 + ct_non_zero_bytes * 8\n",
    "                        val = bits_to_float(val)\n",
    "                        val = transTypes[transIdx](prev[0], prev[1], val)\n",
    "                        \n",
    "                        orig_block.append(val)\n",
    "                \n",
    "                prev = [prev[1], orig_block[-1]]\n",
    "\n",
    "        return orig_block\n",
    "\n",
    "\n",
    "    def step(self, action):\n",
    "        params = np.round(action).astype(int)\n",
    "        prev_2 = self.last_2_metric\n",
    "        self.compare_ratio = len(aml.compress_metrics(np.concatenate([prev_2, self.state]))[128:])\n",
    "        bits_count = self.compress(params)\n",
    "\n",
    "        # ###########\n",
    "        # #decompress\n",
    "        # self.last_2_metric = prev_2\n",
    "        # orig_block = self.decompress_metrics(self.compressed_block)\n",
    "\n",
    "        # for i in range(32):\n",
    "        #     if orig_block[i] != self.state[i]:\n",
    "        #         print('Error')\n",
    "        #         print(orig_block[i], self.state[i])\n",
    "        # self.last_2_metric = [self.state[-2], self.state[-1]]\n",
    "        # ###########\n",
    "\n",
    "        reward = self.evaluate(bits_count)\n",
    "        self.idx += 1\n",
    "        if self.idx >= len(self.metrics):\n",
    "            state = np.pad(self.state, (0, 32 - len(self.state)), 'constant', constant_values=(-1e14, ))\n",
    "            return self.bytes(np.concatenate([self.last_2_metric, state])), reward, True, False, {'block': self.compressed_block, 'params': self.write_params(action)}\n",
    "\n",
    "        self.state = self.metrics[self.idx]\n",
    "\n",
    "        state = np.pad(self.state, (0, 32 - len(self.state)), 'constant', constant_values=(-1e14, ))\n",
    "        return self.bytes(np.concatenate([self.last_2_metric, state])), reward, False, False, {'block': self.compressed_block, 'params': self.write_params(action)}\n",
    "\n",
    "    def write_params(self, action):\n",
    "        params = np.round(action).astype(int)\n",
    "        params_bits = ''\n",
    "        params_bits += int_to_bits(params[0])[-2:]\n",
    "        for i in range(4):\n",
    "            params_bits += int_to_bits(params[i+1])[-3:]\n",
    "        params_bits += int_to_bits(params[5])[-1:]\n",
    "        params_bits += int_to_bits(params[6])[-1:]\n",
    "        params_bits += int_to_bits(params[7])[-3:]\n",
    "        return params_bits\n",
    "\n",
    "    def reset(self, seed=None):\n",
    "        self.get_ts()\n",
    "        return self.bytes(np.concatenate([self.last_2_metric, self.state])), {}\n",
    "\n",
    "    def evaluate(self, compressed):\n",
    "        val = compressed / self.compare_ratio\n",
    "        if val >= 1.5:\n",
    "            return -1\n",
    "        return -math.tan(val) + 1.5\n",
    "\n",
    "    def compress(self, params):\n",
    "        self.compressed_block = ''\n",
    "        header = self.write_params(params)\n",
    "        majorMode = params[0]\n",
    "        transTypes = [self.paramters[1][params[1]], self.paramters[1][params[2]], self.paramters[1][params[3]]]\n",
    "        offByteShift1 = params[4]\n",
    "        offByteShift2 = params[5]\n",
    "        offByteShift3 = params[6]\n",
    "        offBitmask = params[7] \n",
    "        #endian = params[10]\n",
    "        posibilities = self.paramters[3][majorMode]\n",
    "        encodings = ['00', '01', '10', '11']\n",
    "\n",
    "        for i in range(len(self.state)):\n",
    "            nr = self.state[i]\n",
    "            opt = 100\n",
    "            opt_compressed = ''\n",
    "            idx_op = -1\n",
    "\n",
    "            last_2 = self.last_2_metric\n",
    "            val = 0\n",
    "            if nr == last_2[1]:\n",
    "                header += '0'\n",
    "                self.last_2_metric = [last_2[1], nr]\n",
    "                continue\n",
    "                \n",
    "            header += '1'\n",
    "\n",
    "            for (j, (transformer, compresser, param)) in  enumerate(posibilities):\n",
    "                val = transTypes[transformer](last_2[0], last_2[1], nr)\n",
    "                val = float_to_bits(val)\n",
    "                if compresser.__name__ == 'offset' and param == 1:\n",
    "                    ct_bits, compressed = compresser(val, offByteShift1, 1)\n",
    "                elif compresser.__name__ == 'offset' and param == 2:\n",
    "                    ct_bits, compressed = compresser(val, offByteShift1 - offByteShift2, 2)\n",
    "                elif compresser.__name__ == 'offset' and param == 3:\n",
    "                    ct_bits, compressed = compresser(val, offByteShift1 - offByteShift2 - offByteShift3, 3)\n",
    "                elif compresser.__name__ == 'bitmask':\n",
    "                    ct_bits, compressed = compresser(val, offBitmask)\n",
    "                elif compresser.__name__ == 'trailing_zero':\n",
    "                    ct_bits, compressed = compresser(val)\n",
    "                    \n",
    "                if ct_bits < opt:\n",
    "                    opt = ct_bits\n",
    "                    opt_compressed = compressed\n",
    "                    idx_op = j\n",
    "                        \n",
    "            self.last_2_metric = [last_2[1], self.state[i]]\n",
    "            self.compressed_block += encodings[idx_op] + opt_compressed\n",
    "        self.compressed_block = header + self.compressed_block\n",
    "        return len(self.compressed_block)\n",
    "\n",
    "\n",
    "    def render(self):\n",
    "        #useless\n",
    "        pass\n",
    "\n",
    "    def close(self):\n",
    "        #useless\n",
    "        pass"
   ]
  },
  {
   "cell_type": "code",
   "execution_count": 18,
   "metadata": {},
   "outputs": [
    {
     "name": "stdout",
     "output_type": "stream",
     "text": [
      "[2.63820097 3.37790898 2.37372801 0.88547841 4.60483377 0.16547556\n",
      " 0.91405193 2.22595209]\n",
      "-0.7899691341197879 0 1\n"
     ]
    }
   ],
   "source": [
    "env = CompressionEnv()\n",
    "action = env.action_space.sample()\n",
    "print(action)\n",
    "state, reward, done, truncated, info = env.step(action)\n",
    "sum = reward\n",
    "ct = 1\n",
    "maxi = 0\n",
    "while not done:\n",
    "    action = env.action_space.sample()\n",
    "    state, reward, done, truncarted, info = env.step(action)\n",
    "    #print(reward, action, state)\n",
    "    # if env.idx >= 1000:\n",
    "    #     done = True\n",
    "#     maxi = max(maxi, reward)\n",
    "#     sum += reward\n",
    "#     ct += 1\n",
    "print(sum / ct, maxi, ct)"
   ]
  },
  {
   "cell_type": "code",
   "execution_count": 19,
   "metadata": {},
   "outputs": [
    {
     "name": "stderr",
     "output_type": "stream",
     "text": [
      "/home/dimi/.local/lib/python3.10/site-packages/stable_baselines3/common/env_checker.py:453: UserWarning: We recommend you to use a symmetric and normalized Box action space (range=[-1, 1]) cf. https://stable-baselines3.readthedocs.io/en/master/guide/rl_tips.html\n",
      "  warnings.warn(\n",
      "/home/dimi/.local/lib/python3.10/site-packages/stable_baselines3/common/env_checker.py:464: UserWarning: Your action space has dtype float64, we recommend using np.float32 to avoid cast errors.\n",
      "  warnings.warn(\n"
     ]
    }
   ],
   "source": [
    "from stable_baselines3.common.env_checker import check_env\n",
    "env = CompressionEnv()\n",
    "obs, _ = env.reset()\n",
    "check_env(env)"
   ]
  },
  {
   "cell_type": "code",
   "execution_count": 20,
   "metadata": {},
   "outputs": [],
   "source": [
    "import warnings\n",
    "warnings.filterwarnings(\"ignore\", category=np.VisibleDeprecationWarning) "
   ]
  },
  {
   "cell_type": "code",
   "execution_count": 21,
   "metadata": {},
   "outputs": [
    {
     "data": {
      "application/vnd.jupyter.widget-view+json": {
       "model_id": "4b6d2ce1b7bf4ad5a8a1507099631f71",
       "version_major": 2,
       "version_minor": 0
      },
      "text/plain": [
       "Output()"
      ]
     },
     "metadata": {},
     "output_type": "display_data"
    },
    {
     "name": "stdout",
     "output_type": "stream",
     "text": [
      "Using cuda device\n"
     ]
    },
    {
     "name": "stdout",
     "output_type": "stream",
     "text": [
      "---------------------------------\n",
      "| time/              |          |\n",
      "|    episodes        | 20       |\n",
      "|    fps             | 75       |\n",
      "|    time_elapsed    | 20       |\n",
      "|    total_timesteps | 1584     |\n",
      "| train/             |          |\n",
      "|    actor_loss      | 5.38     |\n",
      "|    critic_loss     | 0.0855   |\n",
      "|    learning_rate   | 0.001    |\n",
      "|    n_updates       | 1483     |\n",
      "---------------------------------\n"
     ]
    },
    {
     "name": "stdout",
     "output_type": "stream",
     "text": [
      "---------------------------------\n",
      "| time/              |          |\n",
      "|    episodes        | 40       |\n",
      "|    fps             | 71       |\n",
      "|    time_elapsed    | 49       |\n",
      "|    total_timesteps | 3562     |\n",
      "| train/             |          |\n",
      "|    actor_loss      | 7.96     |\n",
      "|    critic_loss     | 0.341    |\n",
      "|    learning_rate   | 0.001    |\n",
      "|    n_updates       | 3461     |\n",
      "---------------------------------\n"
     ]
    },
    {
     "name": "stdout",
     "output_type": "stream",
     "text": [
      "---------------------------------\n",
      "| time/              |          |\n",
      "|    episodes        | 60       |\n",
      "|    fps             | 70       |\n",
      "|    time_elapsed    | 75       |\n",
      "|    total_timesteps | 5330     |\n",
      "| train/             |          |\n",
      "|    actor_loss      | 7.96     |\n",
      "|    critic_loss     | 0.431    |\n",
      "|    learning_rate   | 0.001    |\n",
      "|    n_updates       | 5229     |\n",
      "---------------------------------\n"
     ]
    },
    {
     "name": "stdout",
     "output_type": "stream",
     "text": [
      "---------------------------------\n",
      "| time/              |          |\n",
      "|    episodes        | 80       |\n",
      "|    fps             | 71       |\n",
      "|    time_elapsed    | 98       |\n",
      "|    total_timesteps | 7039     |\n",
      "| train/             |          |\n",
      "|    actor_loss      | 7.73     |\n",
      "|    critic_loss     | 0.284    |\n",
      "|    learning_rate   | 0.001    |\n",
      "|    n_updates       | 6938     |\n",
      "---------------------------------\n"
     ]
    },
    {
     "name": "stdout",
     "output_type": "stream",
     "text": [
      "---------------------------------\n",
      "| time/              |          |\n",
      "|    episodes        | 100      |\n",
      "|    fps             | 70       |\n",
      "|    time_elapsed    | 115      |\n",
      "|    total_timesteps | 8166     |\n",
      "| train/             |          |\n",
      "|    actor_loss      | 8.71     |\n",
      "|    critic_loss     | 0.192    |\n",
      "|    learning_rate   | 0.001    |\n",
      "|    n_updates       | 8065     |\n",
      "---------------------------------\n"
     ]
    },
    {
     "name": "stdout",
     "output_type": "stream",
     "text": [
      "---------------------------------\n",
      "| time/              |          |\n",
      "|    episodes        | 120      |\n",
      "|    fps             | 71       |\n",
      "|    time_elapsed    | 141      |\n",
      "|    total_timesteps | 10123    |\n",
      "| train/             |          |\n",
      "|    actor_loss      | 8.44     |\n",
      "|    critic_loss     | 0.322    |\n",
      "|    learning_rate   | 0.001    |\n",
      "|    n_updates       | 10022    |\n",
      "---------------------------------\n"
     ]
    },
    {
     "name": "stdout",
     "output_type": "stream",
     "text": [
      "---------------------------------\n",
      "| time/              |          |\n",
      "|    episodes        | 140      |\n",
      "|    fps             | 70       |\n",
      "|    time_elapsed    | 165      |\n",
      "|    total_timesteps | 11719    |\n",
      "| train/             |          |\n",
      "|    actor_loss      | 9.83     |\n",
      "|    critic_loss     | 0.181    |\n",
      "|    learning_rate   | 0.001    |\n",
      "|    n_updates       | 11618    |\n",
      "---------------------------------\n"
     ]
    },
    {
     "name": "stdout",
     "output_type": "stream",
     "text": [
      "---------------------------------\n",
      "| time/              |          |\n",
      "|    episodes        | 160      |\n",
      "|    fps             | 69       |\n",
      "|    time_elapsed    | 197      |\n",
      "|    total_timesteps | 13803    |\n",
      "| train/             |          |\n",
      "|    actor_loss      | 10.1     |\n",
      "|    critic_loss     | 0.272    |\n",
      "|    learning_rate   | 0.001    |\n",
      "|    n_updates       | 13702    |\n",
      "---------------------------------\n"
     ]
    },
    {
     "name": "stdout",
     "output_type": "stream",
     "text": [
      "---------------------------------\n",
      "| time/              |          |\n",
      "|    episodes        | 180      |\n",
      "|    fps             | 69       |\n",
      "|    time_elapsed    | 225      |\n",
      "|    total_timesteps | 15673    |\n",
      "| train/             |          |\n",
      "|    actor_loss      | 9.88     |\n",
      "|    critic_loss     | 0.46     |\n",
      "|    learning_rate   | 0.001    |\n",
      "|    n_updates       | 15572    |\n",
      "---------------------------------\n"
     ]
    },
    {
     "name": "stdout",
     "output_type": "stream",
     "text": [
      "---------------------------------\n",
      "| time/              |          |\n",
      "|    episodes        | 200      |\n",
      "|    fps             | 69       |\n",
      "|    time_elapsed    | 249      |\n",
      "|    total_timesteps | 17435    |\n",
      "| train/             |          |\n",
      "|    actor_loss      | 11.4     |\n",
      "|    critic_loss     | 0.307    |\n",
      "|    learning_rate   | 0.001    |\n",
      "|    n_updates       | 17334    |\n",
      "---------------------------------\n"
     ]
    },
    {
     "name": "stdout",
     "output_type": "stream",
     "text": [
      "---------------------------------\n",
      "| time/              |          |\n",
      "|    episodes        | 220      |\n",
      "|    fps             | 69       |\n",
      "|    time_elapsed    | 274      |\n",
      "|    total_timesteps | 19088    |\n",
      "| train/             |          |\n",
      "|    actor_loss      | 10.1     |\n",
      "|    critic_loss     | 0.275    |\n",
      "|    learning_rate   | 0.001    |\n",
      "|    n_updates       | 18987    |\n",
      "---------------------------------\n"
     ]
    },
    {
     "name": "stdout",
     "output_type": "stream",
     "text": [
      "---------------------------------\n",
      "| time/              |          |\n",
      "|    episodes        | 240      |\n",
      "|    fps             | 69       |\n",
      "|    time_elapsed    | 298      |\n",
      "|    total_timesteps | 20714    |\n",
      "| train/             |          |\n",
      "|    actor_loss      | 8.14     |\n",
      "|    critic_loss     | 0.267    |\n",
      "|    learning_rate   | 0.001    |\n",
      "|    n_updates       | 20613    |\n",
      "---------------------------------\n"
     ]
    },
    {
     "name": "stdout",
     "output_type": "stream",
     "text": [
      "---------------------------------\n",
      "| time/              |          |\n",
      "|    episodes        | 260      |\n",
      "|    fps             | 69       |\n",
      "|    time_elapsed    | 319      |\n",
      "|    total_timesteps | 22237    |\n",
      "| train/             |          |\n",
      "|    actor_loss      | 9.36     |\n",
      "|    critic_loss     | 0.275    |\n",
      "|    learning_rate   | 0.001    |\n",
      "|    n_updates       | 22136    |\n",
      "---------------------------------\n"
     ]
    },
    {
     "name": "stdout",
     "output_type": "stream",
     "text": [
      "---------------------------------\n",
      "| time/              |          |\n",
      "|    episodes        | 280      |\n",
      "|    fps             | 69       |\n",
      "|    time_elapsed    | 341      |\n",
      "|    total_timesteps | 23709    |\n",
      "| train/             |          |\n",
      "|    actor_loss      | 10.8     |\n",
      "|    critic_loss     | 0.192    |\n",
      "|    learning_rate   | 0.001    |\n",
      "|    n_updates       | 23608    |\n",
      "---------------------------------\n"
     ]
    },
    {
     "name": "stdout",
     "output_type": "stream",
     "text": [
      "---------------------------------\n",
      "| time/              |          |\n",
      "|    episodes        | 300      |\n",
      "|    fps             | 69       |\n",
      "|    time_elapsed    | 364      |\n",
      "|    total_timesteps | 25425    |\n",
      "| train/             |          |\n",
      "|    actor_loss      | 10.5     |\n",
      "|    critic_loss     | 0.273    |\n",
      "|    learning_rate   | 0.001    |\n",
      "|    n_updates       | 25324    |\n",
      "---------------------------------\n"
     ]
    },
    {
     "name": "stdout",
     "output_type": "stream",
     "text": [
      "---------------------------------\n",
      "| time/              |          |\n",
      "|    episodes        | 320      |\n",
      "|    fps             | 69       |\n",
      "|    time_elapsed    | 395      |\n",
      "|    total_timesteps | 27640    |\n",
      "| train/             |          |\n",
      "|    actor_loss      | 8.83     |\n",
      "|    critic_loss     | 0.25     |\n",
      "|    learning_rate   | 0.001    |\n",
      "|    n_updates       | 27539    |\n",
      "---------------------------------\n"
     ]
    },
    {
     "name": "stdout",
     "output_type": "stream",
     "text": [
      "---------------------------------\n",
      "| time/              |          |\n",
      "|    episodes        | 340      |\n",
      "|    fps             | 69       |\n",
      "|    time_elapsed    | 420      |\n",
      "|    total_timesteps | 29402    |\n",
      "| train/             |          |\n",
      "|    actor_loss      | 10.1     |\n",
      "|    critic_loss     | 0.386    |\n",
      "|    learning_rate   | 0.001    |\n",
      "|    n_updates       | 29301    |\n",
      "---------------------------------\n"
     ]
    },
    {
     "name": "stdout",
     "output_type": "stream",
     "text": [
      "---------------------------------\n",
      "| time/              |          |\n",
      "|    episodes        | 360      |\n",
      "|    fps             | 69       |\n",
      "|    time_elapsed    | 442      |\n",
      "|    total_timesteps | 30950    |\n",
      "| train/             |          |\n",
      "|    actor_loss      | 9.36     |\n",
      "|    critic_loss     | 0.337    |\n",
      "|    learning_rate   | 0.001    |\n",
      "|    n_updates       | 30849    |\n",
      "---------------------------------\n"
     ]
    },
    {
     "name": "stdout",
     "output_type": "stream",
     "text": [
      "---------------------------------\n",
      "| time/              |          |\n",
      "|    episodes        | 380      |\n",
      "|    fps             | 70       |\n",
      "|    time_elapsed    | 471      |\n",
      "|    total_timesteps | 32986    |\n",
      "| train/             |          |\n",
      "|    actor_loss      | 8.86     |\n",
      "|    critic_loss     | 0.319    |\n",
      "|    learning_rate   | 0.001    |\n",
      "|    n_updates       | 32885    |\n",
      "---------------------------------\n"
     ]
    },
    {
     "name": "stdout",
     "output_type": "stream",
     "text": [
      "---------------------------------\n",
      "| time/              |          |\n",
      "|    episodes        | 400      |\n",
      "|    fps             | 69       |\n",
      "|    time_elapsed    | 497      |\n",
      "|    total_timesteps | 34759    |\n",
      "| train/             |          |\n",
      "|    actor_loss      | 8.29     |\n",
      "|    critic_loss     | 0.246    |\n",
      "|    learning_rate   | 0.001    |\n",
      "|    n_updates       | 34658    |\n",
      "---------------------------------\n"
     ]
    },
    {
     "name": "stdout",
     "output_type": "stream",
     "text": [
      "---------------------------------\n",
      "| time/              |          |\n",
      "|    episodes        | 420      |\n",
      "|    fps             | 69       |\n",
      "|    time_elapsed    | 521      |\n",
      "|    total_timesteps | 36424    |\n",
      "| train/             |          |\n",
      "|    actor_loss      | 8.9      |\n",
      "|    critic_loss     | 0.18     |\n",
      "|    learning_rate   | 0.001    |\n",
      "|    n_updates       | 36323    |\n",
      "---------------------------------\n"
     ]
    },
    {
     "name": "stdout",
     "output_type": "stream",
     "text": [
      "---------------------------------\n",
      "| time/              |          |\n",
      "|    episodes        | 440      |\n",
      "|    fps             | 69       |\n",
      "|    time_elapsed    | 539      |\n",
      "|    total_timesteps | 37466    |\n",
      "| train/             |          |\n",
      "|    actor_loss      | 7.2      |\n",
      "|    critic_loss     | 0.197    |\n",
      "|    learning_rate   | 0.001    |\n",
      "|    n_updates       | 37365    |\n",
      "---------------------------------\n"
     ]
    },
    {
     "name": "stdout",
     "output_type": "stream",
     "text": [
      "---------------------------------\n",
      "| time/              |          |\n",
      "|    episodes        | 460      |\n",
      "|    fps             | 69       |\n",
      "|    time_elapsed    | 563      |\n",
      "|    total_timesteps | 39036    |\n",
      "| train/             |          |\n",
      "|    actor_loss      | 8.37     |\n",
      "|    critic_loss     | 0.33     |\n",
      "|    learning_rate   | 0.001    |\n",
      "|    n_updates       | 38935    |\n",
      "---------------------------------\n"
     ]
    },
    {
     "name": "stdout",
     "output_type": "stream",
     "text": [
      "---------------------------------\n",
      "| time/              |          |\n",
      "|    episodes        | 480      |\n",
      "|    fps             | 69       |\n",
      "|    time_elapsed    | 587      |\n",
      "|    total_timesteps | 40640    |\n",
      "| train/             |          |\n",
      "|    actor_loss      | 7.76     |\n",
      "|    critic_loss     | 0.567    |\n",
      "|    learning_rate   | 0.001    |\n",
      "|    n_updates       | 40539    |\n",
      "---------------------------------\n"
     ]
    },
    {
     "name": "stdout",
     "output_type": "stream",
     "text": [
      "---------------------------------\n",
      "| time/              |          |\n",
      "|    episodes        | 500      |\n",
      "|    fps             | 69       |\n",
      "|    time_elapsed    | 612      |\n",
      "|    total_timesteps | 42415    |\n",
      "| train/             |          |\n",
      "|    actor_loss      | 5.02     |\n",
      "|    critic_loss     | 0.371    |\n",
      "|    learning_rate   | 0.001    |\n",
      "|    n_updates       | 42314    |\n",
      "---------------------------------\n"
     ]
    },
    {
     "name": "stdout",
     "output_type": "stream",
     "text": [
      "---------------------------------\n",
      "| time/              |          |\n",
      "|    episodes        | 520      |\n",
      "|    fps             | 69       |\n",
      "|    time_elapsed    | 638      |\n",
      "|    total_timesteps | 44188    |\n",
      "| train/             |          |\n",
      "|    actor_loss      | 2.34     |\n",
      "|    critic_loss     | 3.35     |\n",
      "|    learning_rate   | 0.001    |\n",
      "|    n_updates       | 44087    |\n",
      "---------------------------------\n"
     ]
    },
    {
     "name": "stdout",
     "output_type": "stream",
     "text": [
      "---------------------------------\n",
      "| time/              |          |\n",
      "|    episodes        | 540      |\n",
      "|    fps             | 69       |\n",
      "|    time_elapsed    | 668      |\n",
      "|    total_timesteps | 46327    |\n",
      "| train/             |          |\n",
      "|    actor_loss      | -1.01    |\n",
      "|    critic_loss     | 0.7      |\n",
      "|    learning_rate   | 0.001    |\n",
      "|    n_updates       | 46226    |\n",
      "---------------------------------\n"
     ]
    },
    {
     "name": "stdout",
     "output_type": "stream",
     "text": [
      "---------------------------------\n",
      "| time/              |          |\n",
      "|    episodes        | 560      |\n",
      "|    fps             | 69       |\n",
      "|    time_elapsed    | 699      |\n",
      "|    total_timesteps | 48460    |\n",
      "| train/             |          |\n",
      "|    actor_loss      | 3.35     |\n",
      "|    critic_loss     | 8.36     |\n",
      "|    learning_rate   | 0.001    |\n",
      "|    n_updates       | 48359    |\n",
      "---------------------------------\n"
     ]
    },
    {
     "data": {
      "text/html": [
       "<pre style=\"white-space:pre;overflow-x:auto;line-height:normal;font-family:Menlo,'DejaVu Sans Mono',consolas,'Courier New',monospace\"></pre>\n"
      ],
      "text/plain": []
     },
     "metadata": {},
     "output_type": "display_data"
    },
    {
     "data": {
      "text/html": [
       "<pre style=\"white-space:pre;overflow-x:auto;line-height:normal;font-family:Menlo,'DejaVu Sans Mono',consolas,'Courier New',monospace\">\n",
       "</pre>\n"
      ],
      "text/plain": [
       "\n"
      ]
     },
     "metadata": {},
     "output_type": "display_data"
    }
   ],
   "source": [
    "#Use SAC from stable baselines\n",
    "from stable_baselines3 import TD3, DDPG\n",
    "from stable_baselines3.sac.policies import MlpPolicy, MultiInputPolicy\n",
    "from stable_baselines3.common.vec_env import DummyVecEnv\n",
    "from stable_baselines3.common.noise import NormalActionNoise, OrnsteinUhlenbeckActionNoise\n",
    "\n",
    "env = CompressionEnv()\n",
    "env = DummyVecEnv([lambda: env])\n",
    "\n",
    "n_actions = env.action_space.shape[-1]\n",
    "action_noise = NormalActionNoise(mean=np.zeros(n_actions), sigma=0.1 * np.ones(n_actions))\n",
    "\n",
    "#Add progress bar for learning\n",
    "model = DDPG('MlpPolicy', env, action_noise=action_noise, verbose=1)\n",
    "model3 = model.learn(total_timesteps=50000, progress_bar=True, log_interval=20)\n"
   ]
  },
  {
   "cell_type": "code",
   "execution_count": 23,
   "metadata": {},
   "outputs": [
    {
     "data": {
      "application/vnd.jupyter.widget-view+json": {
       "model_id": "92bc72bcae5f43b2af89a36dfe9b8be1",
       "version_major": 2,
       "version_minor": 0
      },
      "text/plain": [
       "Output()"
      ]
     },
     "metadata": {},
     "output_type": "display_data"
    },
    {
     "name": "stdout",
     "output_type": "stream",
     "text": [
      "---------------------------------\n",
      "| time/              |          |\n",
      "|    episodes        | 80       |\n",
      "|    fps             | 71       |\n",
      "|    time_elapsed    | 105      |\n",
      "|    total_timesteps | 7520     |\n",
      "| train/             |          |\n",
      "|    actor_loss      | 0.766    |\n",
      "|    critic_loss     | 0.105    |\n",
      "|    learning_rate   | 0.001    |\n",
      "|    n_updates       | 157219   |\n",
      "---------------------------------\n"
     ]
    },
    {
     "name": "stdout",
     "output_type": "stream",
     "text": [
      "---------------------------------\n",
      "| time/              |          |\n",
      "|    episodes        | 160      |\n",
      "|    fps             | 70       |\n",
      "|    time_elapsed    | 202      |\n",
      "|    total_timesteps | 14316    |\n",
      "| train/             |          |\n",
      "|    actor_loss      | 1.73     |\n",
      "|    critic_loss     | 0.104    |\n",
      "|    learning_rate   | 0.001    |\n",
      "|    n_updates       | 164015   |\n",
      "---------------------------------\n"
     ]
    },
    {
     "name": "stdout",
     "output_type": "stream",
     "text": [
      "---------------------------------\n",
      "| time/              |          |\n",
      "|    episodes        | 240      |\n",
      "|    fps             | 70       |\n",
      "|    time_elapsed    | 295      |\n",
      "|    total_timesteps | 20902    |\n",
      "| train/             |          |\n",
      "|    actor_loss      | 1.61     |\n",
      "|    critic_loss     | 0.128    |\n",
      "|    learning_rate   | 0.001    |\n",
      "|    n_updates       | 170601   |\n",
      "---------------------------------\n"
     ]
    },
    {
     "name": "stdout",
     "output_type": "stream",
     "text": [
      "---------------------------------\n",
      "| time/              |          |\n",
      "|    episodes        | 320      |\n",
      "|    fps             | 70       |\n",
      "|    time_elapsed    | 391      |\n",
      "|    total_timesteps | 27747    |\n",
      "| train/             |          |\n",
      "|    actor_loss      | 1.88     |\n",
      "|    critic_loss     | 0.0913   |\n",
      "|    learning_rate   | 0.001    |\n",
      "|    n_updates       | 177446   |\n",
      "---------------------------------\n"
     ]
    },
    {
     "name": "stdout",
     "output_type": "stream",
     "text": [
      "---------------------------------\n",
      "| time/              |          |\n",
      "|    episodes        | 400      |\n",
      "|    fps             | 70       |\n",
      "|    time_elapsed    | 498      |\n",
      "|    total_timesteps | 35305    |\n",
      "| train/             |          |\n",
      "|    actor_loss      | 1.88     |\n",
      "|    critic_loss     | 0.104    |\n",
      "|    learning_rate   | 0.001    |\n",
      "|    n_updates       | 185004   |\n",
      "---------------------------------\n"
     ]
    },
    {
     "name": "stdout",
     "output_type": "stream",
     "text": [
      "---------------------------------\n",
      "| time/              |          |\n",
      "|    episodes        | 480      |\n",
      "|    fps             | 70       |\n",
      "|    time_elapsed    | 601      |\n",
      "|    total_timesteps | 42313    |\n",
      "| train/             |          |\n",
      "|    actor_loss      | 1.51     |\n",
      "|    critic_loss     | 0.0868   |\n",
      "|    learning_rate   | 0.001    |\n",
      "|    n_updates       | 192012   |\n",
      "---------------------------------\n"
     ]
    },
    {
     "name": "stdout",
     "output_type": "stream",
     "text": [
      "---------------------------------\n",
      "| time/              |          |\n",
      "|    episodes        | 560      |\n",
      "|    fps             | 70       |\n",
      "|    time_elapsed    | 705      |\n",
      "|    total_timesteps | 49510    |\n",
      "| train/             |          |\n",
      "|    actor_loss      | 2.28     |\n",
      "|    critic_loss     | 0.0706   |\n",
      "|    learning_rate   | 0.001    |\n",
      "|    n_updates       | 199209   |\n",
      "---------------------------------\n"
     ]
    },
    {
     "name": "stdout",
     "output_type": "stream",
     "text": [
      "---------------------------------\n",
      "| time/              |          |\n",
      "|    episodes        | 640      |\n",
      "|    fps             | 69       |\n",
      "|    time_elapsed    | 816      |\n",
      "|    total_timesteps | 56871    |\n",
      "| train/             |          |\n",
      "|    actor_loss      | 2.37     |\n",
      "|    critic_loss     | 1.04     |\n",
      "|    learning_rate   | 0.001    |\n",
      "|    n_updates       | 206570   |\n",
      "---------------------------------\n"
     ]
    },
    {
     "name": "stdout",
     "output_type": "stream",
     "text": [
      "---------------------------------\n",
      "| time/              |          |\n",
      "|    episodes        | 720      |\n",
      "|    fps             | 69       |\n",
      "|    time_elapsed    | 927      |\n",
      "|    total_timesteps | 64474    |\n",
      "| train/             |          |\n",
      "|    actor_loss      | 2.66     |\n",
      "|    critic_loss     | 0.0668   |\n",
      "|    learning_rate   | 0.001    |\n",
      "|    n_updates       | 214173   |\n",
      "---------------------------------\n"
     ]
    },
    {
     "name": "stdout",
     "output_type": "stream",
     "text": [
      "---------------------------------\n",
      "| time/              |          |\n",
      "|    episodes        | 800      |\n",
      "|    fps             | 69       |\n",
      "|    time_elapsed    | 1023     |\n",
      "|    total_timesteps | 71313    |\n",
      "| train/             |          |\n",
      "|    actor_loss      | 2.46     |\n",
      "|    critic_loss     | 0.0985   |\n",
      "|    learning_rate   | 0.001    |\n",
      "|    n_updates       | 221012   |\n",
      "---------------------------------\n"
     ]
    },
    {
     "name": "stdout",
     "output_type": "stream",
     "text": [
      "---------------------------------\n",
      "| time/              |          |\n",
      "|    episodes        | 880      |\n",
      "|    fps             | 69       |\n",
      "|    time_elapsed    | 1121     |\n",
      "|    total_timesteps | 78240    |\n",
      "| train/             |          |\n",
      "|    actor_loss      | 1.47     |\n",
      "|    critic_loss     | 0.12     |\n",
      "|    learning_rate   | 0.001    |\n",
      "|    n_updates       | 227939   |\n",
      "---------------------------------\n"
     ]
    },
    {
     "name": "stdout",
     "output_type": "stream",
     "text": [
      "---------------------------------\n",
      "| time/              |          |\n",
      "|    episodes        | 960      |\n",
      "|    fps             | 69       |\n",
      "|    time_elapsed    | 1219     |\n",
      "|    total_timesteps | 85013    |\n",
      "| train/             |          |\n",
      "|    actor_loss      | -5.78    |\n",
      "|    critic_loss     | 2.43     |\n",
      "|    learning_rate   | 0.001    |\n",
      "|    n_updates       | 234712   |\n",
      "---------------------------------\n"
     ]
    },
    {
     "name": "stdout",
     "output_type": "stream",
     "text": [
      "---------------------------------\n",
      "| time/              |          |\n",
      "|    episodes        | 1040     |\n",
      "|    fps             | 69       |\n",
      "|    time_elapsed    | 1325     |\n",
      "|    total_timesteps | 92321    |\n",
      "| train/             |          |\n",
      "|    actor_loss      | -3.82    |\n",
      "|    critic_loss     | 0.144    |\n",
      "|    learning_rate   | 0.001    |\n",
      "|    n_updates       | 242020   |\n",
      "---------------------------------\n"
     ]
    },
    {
     "name": "stdout",
     "output_type": "stream",
     "text": [
      "---------------------------------\n",
      "| time/              |          |\n",
      "|    episodes        | 1120     |\n",
      "|    fps             | 69       |\n",
      "|    time_elapsed    | 1424     |\n",
      "|    total_timesteps | 99236    |\n",
      "| train/             |          |\n",
      "|    actor_loss      | 1.03     |\n",
      "|    critic_loss     | 0.375    |\n",
      "|    learning_rate   | 0.001    |\n",
      "|    n_updates       | 248935   |\n",
      "---------------------------------\n"
     ]
    },
    {
     "name": "stdout",
     "output_type": "stream",
     "text": [
      "---------------------------------\n",
      "| time/              |          |\n",
      "|    episodes        | 1200     |\n",
      "|    fps             | 69       |\n",
      "|    time_elapsed    | 1507     |\n",
      "|    total_timesteps | 105063   |\n",
      "| train/             |          |\n",
      "|    actor_loss      | 1.92     |\n",
      "|    critic_loss     | 0.0723   |\n",
      "|    learning_rate   | 0.001    |\n",
      "|    n_updates       | 254762   |\n",
      "---------------------------------\n"
     ]
    },
    {
     "name": "stdout",
     "output_type": "stream",
     "text": [
      "---------------------------------\n",
      "| time/              |          |\n",
      "|    episodes        | 1280     |\n",
      "|    fps             | 69       |\n",
      "|    time_elapsed    | 1616     |\n",
      "|    total_timesteps | 112585   |\n",
      "| train/             |          |\n",
      "|    actor_loss      | 2.18     |\n",
      "|    critic_loss     | 0.216    |\n",
      "|    learning_rate   | 0.001    |\n",
      "|    n_updates       | 262284   |\n",
      "---------------------------------\n"
     ]
    },
    {
     "name": "stdout",
     "output_type": "stream",
     "text": [
      "---------------------------------\n",
      "| time/              |          |\n",
      "|    episodes        | 1360     |\n",
      "|    fps             | 69       |\n",
      "|    time_elapsed    | 1718     |\n",
      "|    total_timesteps | 119708   |\n",
      "| train/             |          |\n",
      "|    actor_loss      | 3.83     |\n",
      "|    critic_loss     | 0.115    |\n",
      "|    learning_rate   | 0.001    |\n",
      "|    n_updates       | 269407   |\n",
      "---------------------------------\n"
     ]
    },
    {
     "name": "stdout",
     "output_type": "stream",
     "text": [
      "---------------------------------\n",
      "| time/              |          |\n",
      "|    episodes        | 1440     |\n",
      "|    fps             | 69       |\n",
      "|    time_elapsed    | 1819     |\n",
      "|    total_timesteps | 126999   |\n",
      "| train/             |          |\n",
      "|    actor_loss      | 4.85     |\n",
      "|    critic_loss     | 0.152    |\n",
      "|    learning_rate   | 0.001    |\n",
      "|    n_updates       | 276698   |\n",
      "---------------------------------\n"
     ]
    },
    {
     "name": "stdout",
     "output_type": "stream",
     "text": [
      "---------------------------------\n",
      "| time/              |          |\n",
      "|    episodes        | 1520     |\n",
      "|    fps             | 69       |\n",
      "|    time_elapsed    | 1913     |\n",
      "|    total_timesteps | 133792   |\n",
      "| train/             |          |\n",
      "|    actor_loss      | 4.22     |\n",
      "|    critic_loss     | 4.29     |\n",
      "|    learning_rate   | 0.001    |\n",
      "|    n_updates       | 283491   |\n",
      "---------------------------------\n"
     ]
    },
    {
     "name": "stdout",
     "output_type": "stream",
     "text": [
      "---------------------------------\n",
      "| time/              |          |\n",
      "|    episodes        | 1600     |\n",
      "|    fps             | 69       |\n",
      "|    time_elapsed    | 2021     |\n",
      "|    total_timesteps | 141327   |\n",
      "| train/             |          |\n",
      "|    actor_loss      | 2.87     |\n",
      "|    critic_loss     | 0.207    |\n",
      "|    learning_rate   | 0.001    |\n",
      "|    n_updates       | 291026   |\n",
      "---------------------------------\n"
     ]
    },
    {
     "name": "stdout",
     "output_type": "stream",
     "text": [
      "---------------------------------\n",
      "| time/              |          |\n",
      "|    episodes        | 1680     |\n",
      "|    fps             | 69       |\n",
      "|    time_elapsed    | 2133     |\n",
      "|    total_timesteps | 149084   |\n",
      "| train/             |          |\n",
      "|    actor_loss      | 1.2      |\n",
      "|    critic_loss     | 0.0781   |\n",
      "|    learning_rate   | 0.001    |\n",
      "|    n_updates       | 298783   |\n",
      "---------------------------------\n"
     ]
    },
    {
     "name": "stdout",
     "output_type": "stream",
     "text": [
      "---------------------------------\n",
      "| time/              |          |\n",
      "|    episodes        | 1760     |\n",
      "|    fps             | 69       |\n",
      "|    time_elapsed    | 2247     |\n",
      "|    total_timesteps | 157273   |\n",
      "| train/             |          |\n",
      "|    actor_loss      | 1.66     |\n",
      "|    critic_loss     | 0.0748   |\n",
      "|    learning_rate   | 0.001    |\n",
      "|    n_updates       | 306972   |\n",
      "---------------------------------\n"
     ]
    },
    {
     "name": "stdout",
     "output_type": "stream",
     "text": [
      "---------------------------------\n",
      "| time/              |          |\n",
      "|    episodes        | 1840     |\n",
      "|    fps             | 69       |\n",
      "|    time_elapsed    | 2357     |\n",
      "|    total_timesteps | 165037   |\n",
      "| train/             |          |\n",
      "|    actor_loss      | 0.825    |\n",
      "|    critic_loss     | 0.0841   |\n",
      "|    learning_rate   | 0.001    |\n",
      "|    n_updates       | 314736   |\n",
      "---------------------------------\n"
     ]
    },
    {
     "name": "stdout",
     "output_type": "stream",
     "text": [
      "---------------------------------\n",
      "| time/              |          |\n",
      "|    episodes        | 1920     |\n",
      "|    fps             | 69       |\n",
      "|    time_elapsed    | 2457     |\n",
      "|    total_timesteps | 171957   |\n",
      "| train/             |          |\n",
      "|    actor_loss      | 0.684    |\n",
      "|    critic_loss     | 0.0834   |\n",
      "|    learning_rate   | 0.001    |\n",
      "|    n_updates       | 321656   |\n",
      "---------------------------------\n"
     ]
    },
    {
     "name": "stdout",
     "output_type": "stream",
     "text": [
      "---------------------------------\n",
      "| time/              |          |\n",
      "|    episodes        | 2000     |\n",
      "|    fps             | 69       |\n",
      "|    time_elapsed    | 2558     |\n",
      "|    total_timesteps | 179069   |\n",
      "| train/             |          |\n",
      "|    actor_loss      | -0.0676  |\n",
      "|    critic_loss     | 0.0817   |\n",
      "|    learning_rate   | 0.001    |\n",
      "|    n_updates       | 328768   |\n",
      "---------------------------------\n"
     ]
    },
    {
     "name": "stdout",
     "output_type": "stream",
     "text": [
      "---------------------------------\n",
      "| time/              |          |\n",
      "|    episodes        | 2080     |\n",
      "|    fps             | 69       |\n",
      "|    time_elapsed    | 2662     |\n",
      "|    total_timesteps | 186315   |\n",
      "| train/             |          |\n",
      "|    actor_loss      | -1.38    |\n",
      "|    critic_loss     | 0.595    |\n",
      "|    learning_rate   | 0.001    |\n",
      "|    n_updates       | 336014   |\n",
      "---------------------------------\n"
     ]
    },
    {
     "name": "stdout",
     "output_type": "stream",
     "text": [
      "---------------------------------\n",
      "| time/              |          |\n",
      "|    episodes        | 2160     |\n",
      "|    fps             | 69       |\n",
      "|    time_elapsed    | 2762     |\n",
      "|    total_timesteps | 193240   |\n",
      "| train/             |          |\n",
      "|    actor_loss      | -0.74    |\n",
      "|    critic_loss     | 0.52     |\n",
      "|    learning_rate   | 0.001    |\n",
      "|    n_updates       | 342939   |\n",
      "---------------------------------\n"
     ]
    },
    {
     "data": {
      "text/html": [
       "<pre style=\"white-space:pre;overflow-x:auto;line-height:normal;font-family:Menlo,'DejaVu Sans Mono',consolas,'Courier New',monospace\"></pre>\n"
      ],
      "text/plain": []
     },
     "metadata": {},
     "output_type": "display_data"
    },
    {
     "data": {
      "text/html": [
       "<pre style=\"white-space:pre;overflow-x:auto;line-height:normal;font-family:Menlo,'DejaVu Sans Mono',consolas,'Courier New',monospace\">\n",
       "</pre>\n"
      ],
      "text/plain": [
       "\n"
      ]
     },
     "metadata": {},
     "output_type": "display_data"
    }
   ],
   "source": [
    "model3 = model.learn(total_timesteps=200000, progress_bar=True, log_interval=80)\n"
   ]
  },
  {
   "cell_type": "code",
   "execution_count": 38,
   "metadata": {},
   "outputs": [],
   "source": [
    "#save the model\n",
    "model.save(\"TD3_CompressionEnv\")"
   ]
  },
  {
   "cell_type": "code",
   "execution_count": null,
   "metadata": {},
   "outputs": [],
   "source": [
    "import tensorflow as tf\n",
    "tf.config.list_physical_devices('GPU')"
   ]
  },
  {
   "cell_type": "code",
   "execution_count": 37,
   "metadata": {},
   "outputs": [
    {
     "name": "stdout",
     "output_type": "stream",
     "text": [
      "61.472458948243606\n",
      "1.3565640046412615 61.472458948243606 2.6493471662859776 -0.09340688633165718\n"
     ]
    }
   ],
   "source": [
    "env = CompressionEnv()\n",
    "obs, _ = env.reset()\n",
    "\n",
    "print(env.timestamps_ratio)\n",
    "\n",
    "action, _states = model.predict(obs)\n",
    "state, reward, done, truncated, info = env.step(action)\n",
    "sum = reward\n",
    "ct = 1\n",
    "ratio = 128 + len(info['block'])\n",
    "original = 32 * 64\n",
    "while not done:\n",
    "    action, _state = model.predict(state)\n",
    "    state, reward, done, truncarted, info = env.step(action)\n",
    "    ratio += len(info['block'])\n",
    "    original += 32 * 64\n",
    "    #print(reward)\n",
    "    sum += reward\n",
    "    ct += 1\n",
    "print(original / ratio, env.timestamps_ratio, (original + len(env.timestamps) * 64) / (ratio + len(env.timestamps) * 64 / env.timestamps_ratio) , sum / ct)"
   ]
  },
  {
   "cell_type": "code",
   "execution_count": null,
   "metadata": {},
   "outputs": [],
   "source": [
    "from transform_primitives import xor, delta_xor, delta, delta_of_delta, rev_delta, rev_delta_of_delta\n",
    "from compression_primitives import bitmask, offset, trailing_zero\n",
    "env = CompressionEnv()\n",
    "#env.get_ts()\n",
    "print(env.metrics[0])\n",
    "sample = env.metrics[0]\n",
    "prev = env.last_2_metric\n",
    "print(prev)\n",
    "transformers = [delta, delta_of_delta, rev_delta, rev_delta_of_delta]\n",
    "avg = 0\n",
    "ct = 0\n",
    "for j in range(len(env.metrics)):\n",
    "    sample = env.metrics[j]\n",
    "    for i in range(len(sample)):\n",
    "        ct += 1\n",
    "        mini = 64\n",
    "        for t in transformers:\n",
    "            val = t(prev[0], prev[1], sample[i])\n",
    "            val = int(num_to_bits(val), 2)\n",
    "            mini = min(mini, bitmask(val, 0), offset(val, 0), trailing_zero(val), offset(val, 1), offset(val, 2), bitmask(val, 1))\n",
    "        avg += mini\n",
    "        prev[0] = prev[1]\n",
    "        prev[1] = sample[i]\n",
    "print(avg / ct)\n",
    "#daily-temperature 61.26 avg\n",
    "#gold 61.82"
   ]
  },
  {
   "cell_type": "code",
   "execution_count": null,
   "metadata": {},
   "outputs": [],
   "source": [
    "action = [3, 0, 1, 3, 0, 1, 0, 0, 0, 0]\n",
    "env2 = CompressionEnv()\n",
    "print(env2.state)\n",
    "state, reward, done, truncated, info = env2.step(action)\n",
    "print(reward)"
   ]
  },
  {
   "cell_type": "code",
   "execution_count": null,
   "metadata": {},
   "outputs": [],
   "source": [
    "df = pd.read_csv('Gold.csv')\n",
    "x = pd.to_datetime(df['DATE'], format='%Y/%m/%d')\n",
    "print(x.astype(np.int64))"
   ]
  },
  {
   "cell_type": "code",
   "execution_count": null,
   "metadata": {},
   "outputs": [],
   "source": [
    "from utilities import int_to_bits, float_to_bits\n",
    "print(int_to_bits(57), float_to_bits(2.257))"
   ]
  }
 ],
 "metadata": {
  "kernelspec": {
   "display_name": "Python 3",
   "language": "python",
   "name": "python3"
  },
  "language_info": {
   "codemirror_mode": {
    "name": "ipython",
    "version": 3
   },
   "file_extension": ".py",
   "mimetype": "text/x-python",
   "name": "python",
   "nbconvert_exporter": "python",
   "pygments_lexer": "ipython3",
   "version": "3.10.12"
  }
 },
 "nbformat": 4,
 "nbformat_minor": 2
}
