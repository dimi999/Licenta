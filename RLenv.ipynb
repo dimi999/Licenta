{
 "cells": [
  {
   "cell_type": "code",
   "execution_count": 1,
   "metadata": {},
   "outputs": [],
   "source": [
    "import gymnasium as gym\n",
    "import numpy as np\n",
    "from random import sample\n",
    "import pandas as pd\n",
    "from utilities import split_in_blocks, float_to_bits, int_to_bits\n",
    "from constants import parameters_dict\n",
    "import math\n",
    "\n",
    "class CompressionEnv(gym.Env):\n",
    "    def __init__(self):\n",
    "        self.action_space = gym.spaces.Box(low=np.array([0, 0, 0, 0, 0, 0, 0, 0, 0]), high=np.array([5, 5, 5, 5, 5, 7, 1, 1, 1]), shape=(9,),  dtype=np.float64)\n",
    "        self.observation_space = gym.spaces.Box(low=np.array([0 for i in range(34 * 8)] ), high=np.array([255 for i in range(34 * 8)]), shape=(34 * 8,),  dtype=np.float32)\n",
    "        self.idx = 0\n",
    "        self.timeseries = ['Electric_Production.csv', 'Gold.csv', 'Electric_Production.csv', 'daily-temperatures.csv', 'oil.csv', 'transactions.csv']\n",
    "        self.timestamps = []\n",
    "        self.metrics = []\n",
    "        self.crt_vec = 'timestamps'\n",
    "        self.paramters = parameters_dict\n",
    "        self.last_2_time = []\n",
    "        self.last_2_metric = []\n",
    "        self.get_ts()\n",
    "        \n",
    "\n",
    "    def get_ts(self):\n",
    "        my_ts = sample(self.timeseries, 1)\n",
    "        df = pd.read_csv(my_ts[0])\n",
    "\n",
    "        try:\n",
    "            #Convert the date to timestamp\n",
    "            self.timestamps = pd.to_datetime(df['DATE'], format='%Y-%m-%d').astype(np.int64).values // 1000000\n",
    "        except:\n",
    "            try:\n",
    "                self.timestamps = pd.to_datetime(df['DATE'], format='%d-%m-%Y').astype(np.int64).values // 1000000\n",
    "            except:\n",
    "                try:\n",
    "                    self.timestamps = pd.to_datetime(df['DATE'], format='%m-%d-%Y').astype(np.int64).values // 1000000\n",
    "                except:\n",
    "                    try:\n",
    "                        self.timestamps = pd.to_datetime(df['DATE'], format='%Y/%d/%m').astype(np.int64).values // 1000000\n",
    "                    except:\n",
    "                        try:\n",
    "                            self.timestamps = pd.to_datetime(df['DATE'], format='%d/%m/%Y').astype(np.int64).values // 1000000\n",
    "                        except:\n",
    "                            self.timestamps = pd.to_datetime(df['DATE'], format='%m/%d/%Y').astype(np.int64).values // 1000000\n",
    "        self.metrics = (df.iloc[:, 1]).astype(np.float64).values\n",
    "        self.metrics[np.isnan(self.metrics)==True] = 0\n",
    "        self.last_2_time = self.timestamps[:2]\n",
    "        self.last_2_metric = self.metrics[:2]\n",
    "        self.timestamps = split_in_blocks(self.timestamps[2:])\n",
    "        self.metrics = split_in_blocks(self.metrics[2:])\n",
    "\n",
    "        self.state = self.timestamps[0]\n",
    "\n",
    "    def bytes(self, vec):\n",
    "        res = []\n",
    "        for x in vec:\n",
    "            if self.crt_vec == 'timestamps':\n",
    "                y = int_to_bits(x)\n",
    "            else:\n",
    "                y = float_to_bits(x)\n",
    "            for start in range(0, 64, 8):\n",
    "                byte = y[start:start+8]\n",
    "                byte = int(byte, 2)\n",
    "                res.append(byte)\n",
    "        return np.asarray(res).astype(np.float32)\n",
    "\n",
    "    def step(self, action):\n",
    "        params = np.round(action).astype(int)\n",
    "        bits_count = self.compress(params)\n",
    "\n",
    "        reward = self.evaluate(self.state, bits_count)\n",
    "        self.idx += 1\n",
    "        if self.idx >= len(self.timestamps) and self.crt_vec == 'timestamps':\n",
    "            self.idx = 0\n",
    "            self.crt_vec = 'metrics'\n",
    "        elif self.idx >= len(self.metrics) and self.crt_vec == 'metrics':\n",
    "            state = np.pad(self.state, (0, 32 - len(self.state)), 'constant', constant_values=(-1e14, ))\n",
    "            return self.bytes(np.concatenate([self.last_2_time, state])), reward, True, False, {}\n",
    "\n",
    "        if self.crt_vec == 'timestamps':\n",
    "            self.state = self.timestamps[self.idx]\n",
    "        else:\n",
    "            self.state = self.metrics[self.idx]\n",
    "\n",
    "        if self.crt_vec == 'timestamps':\n",
    "            if len(self.state) == 32:\n",
    "                return self.bytes(np.concatenate([self.last_2_time, self.state])), reward, False, False, {}\n",
    "            state = np.pad(self.state, (0, 32 - len(self.state)), 'constant', constant_values=(-1e14, ))\n",
    "            return self.bytes(np.concatenate([self.last_2_time, state])), reward, False, False, {}\n",
    "        else:\n",
    "            if len(self.state) == 32:\n",
    "                return self.bytes(np.concatenate([self.last_2_metric, self.state])), reward, False, False, {}\n",
    "            state = np.pad(self.state, (0, 32 - len(self.state)), 'constant', constant_values=(-1e14, ))\n",
    "            return self.bytes(np.concatenate([self.last_2_metric, state])), reward, False, False, {}\n",
    "        \n",
    "    def reset(self, seed=None):\n",
    "        self.get_ts()\n",
    "        self.crt_vec = 'timestamps'\n",
    "        return self.bytes(np.concatenate([self.last_2_time, self.state])), {}\n",
    "\n",
    "    def evaluate(self, original, compressed):\n",
    "        val = (compressed / (len(original) * 64))\n",
    "        return -math.tan(val) / 1.2 + 0.6\n",
    "\n",
    "    def compress(self, params):\n",
    "        transTypes = [self.paramters[1][params[0]], self.paramters[2][params[1]]]\n",
    "        transCodings = ['0', '1']\n",
    "        compressTypes = [self.paramters[4][params[2]], self.paramters[5][params[3]], self.paramters[6][params[4]]]\n",
    "        compressCodings = ['00', '01', '11']\n",
    "        offByteShift1 = params[5]\n",
    "        offByteShift2 = params[6]\n",
    "        offByteShift3 = params[7]\n",
    "        offBitmask = params[8] \n",
    "        #endian = params[10]\n",
    "\n",
    "        sum = 0\n",
    "\n",
    "        for i in range(0, len(self.state) - 1, 2):\n",
    "\n",
    "            first, second = self.state[i], self.state[i + 1]\n",
    "            opt1 = 64\n",
    "            opt2 = 64\n",
    "\n",
    "            if self.crt_vec == 'timestamps':\n",
    "                last_2 = self.last_2_time\n",
    "            else:\n",
    "                last_2 = self.last_2_metric\n",
    "            val1 = val2 = 0\n",
    "            for transformer in transTypes:\n",
    "                if self.crt_vec == 'metrics':\n",
    "                    if transformer.__name__ == 'xor' or transformer.__name__ == 'delta_xor':\n",
    "                        if self.crt_vec == 'timestamps':\n",
    "                            self.last_2_time = [self.state[i], self.state[i + 1]]\n",
    "                        else:\n",
    "                            self.last_2_metric = [self.state[i], self.state[i + 1]]\n",
    "                        continue\n",
    "                    val1 = transformer(last_2[0], last_2[1], first)\n",
    "                    val2 = transformer(last_2[1], first, second)\n",
    "                else:\n",
    "                    val1 = transformer(last_2[0], last_2[1], first)\n",
    "                    val2 = transformer(last_2[1], first, second)\n",
    "\n",
    "                if self.crt_vec == 'timestamps':\n",
    "                    val1 = int_to_bits(val1)\n",
    "                    val2 = int_to_bits(val2)\n",
    "                else:\n",
    "                    val1 = float_to_bits(val1)\n",
    "                    val2 = float_to_bits(val2)\n",
    "\n",
    "                for (compresser, param) in  compressTypes:\n",
    "                    if compresser.__name__ == 'bitmask' and param == 2:\n",
    "                        if self.crt_vec == 'timestamps':\n",
    "                            self.last_2_time = [self.state[i], self.state[i + 1]]\n",
    "                        else:\n",
    "                            self.last_2_metric = [self.state[i], self.state[i + 1]]\n",
    "                        continue\n",
    "                    else:\n",
    "                        if compresser.__name__ == 'offset':\n",
    "                            match param:\n",
    "                                case 1:\n",
    "                                    opt1 = min(opt1, compresser(val1, offByteShift1))\n",
    "                                    opt2 = min(opt2, compresser(val2, offByteShift1))\n",
    "                                case 2:\n",
    "                                    if offByteShift1 - offByteShift2 >= 0:\n",
    "                                        opt1 = min(opt1, compresser(val1, offByteShift1 - offByteShift2))\n",
    "                                        opt2 = min(opt2, compresser(val2, offByteShift1 - offByteShift2))\n",
    "                                case 3:\n",
    "                                    if offByteShift1 - offByteShift2 - offByteShift3 >= 0:\n",
    "                                        opt1 = min(opt1, compresser(val1, offByteShift1 - offByteShift2 - offByteShift3))\n",
    "                                        opt2 = min(opt2, compresser(val2, offByteShift1 - offByteShift2 - offByteShift3))\n",
    "                        elif compresser.__name__ == 'bitmask':\n",
    "                            opt1 = min(opt1, compresser(val1, offBitmask))\n",
    "                            opt2 = min(opt1, compresser(val2, offBitmask))\n",
    "                        else:\n",
    "                            opt1 = min(opt1, compresser(val1))\n",
    "                            opt2 = min(opt1, compresser(val2))\n",
    "            if self.crt_vec == 'timestamps':\n",
    "                self.last_2_time = [self.state[i], self.state[i + 1]]\n",
    "            else:\n",
    "                self.last_2_metric = [self.state[i], self.state[i + 1]]\n",
    "            sum += opt1 + opt2\n",
    "        return sum\n",
    "\n",
    "\n",
    "    def render(self):\n",
    "        #useless\n",
    "        pass\n",
    "\n",
    "    def close(self):\n",
    "        #useless\n",
    "        pass"
   ]
  },
  {
   "cell_type": "code",
   "execution_count": 2,
   "metadata": {},
   "outputs": [
    {
     "name": "stdout",
     "output_type": "stream",
     "text": [
      "0.4326987163284577 0.5869781069250468 5218\n"
     ]
    }
   ],
   "source": [
    "env = CompressionEnv()\n",
    "action = env.action_space.sample()\n",
    "state, reward, done, truncated, info = env.step(action)\n",
    "sum = reward\n",
    "ct = 1\n",
    "maxi = 0\n",
    "while not done:\n",
    "    action = env.action_space.sample()\n",
    "    state, reward, done, truncarted, info = env.step(action)\n",
    "    #print(reward, action, state)\n",
    "    maxi = max(maxi, reward)\n",
    "    sum += reward\n",
    "    ct += 1\n",
    "print(sum / ct, maxi, ct)"
   ]
  },
  {
   "cell_type": "code",
   "execution_count": 3,
   "metadata": {},
   "outputs": [
    {
     "name": "stderr",
     "output_type": "stream",
     "text": [
      "2024-05-24 16:39:04.121532: E external/local_xla/xla/stream_executor/cuda/cuda_dnn.cc:9261] Unable to register cuDNN factory: Attempting to register factory for plugin cuDNN when one has already been registered\n",
      "2024-05-24 16:39:04.121582: E external/local_xla/xla/stream_executor/cuda/cuda_fft.cc:607] Unable to register cuFFT factory: Attempting to register factory for plugin cuFFT when one has already been registered\n",
      "2024-05-24 16:39:04.122496: E external/local_xla/xla/stream_executor/cuda/cuda_blas.cc:1515] Unable to register cuBLAS factory: Attempting to register factory for plugin cuBLAS when one has already been registered\n",
      "2024-05-24 16:39:04.129695: I tensorflow/core/platform/cpu_feature_guard.cc:182] This TensorFlow binary is optimized to use available CPU instructions in performance-critical operations.\n",
      "To enable the following instructions: AVX2 FMA, in other operations, rebuild TensorFlow with the appropriate compiler flags.\n",
      "2024-05-24 16:39:05.100604: W tensorflow/compiler/tf2tensorrt/utils/py_utils.cc:38] TF-TRT Warning: Could not find TensorRT\n"
     ]
    },
    {
     "name": "stdout",
     "output_type": "stream",
     "text": [
      "[  0.   0.   0. 183. 185. 128.  44.   0.   0.   0.   0. 183. 190. 166.\n",
      " 136.   0.   0.   0.   0. 183. 195. 204. 228.   0.   0.   0.   0. 183.\n",
      " 200. 243.  64.   0.   0.   0.   0. 183. 216. 102.  84.   0.   0.   0.\n",
      "   0. 183. 221. 140. 176.   0.   0.   0.   0. 183. 226. 179.  12.   0.\n",
      "   0.   0.   0. 183. 231. 217. 104.   0.   0.   0.   0. 183. 236. 255.\n",
      " 196.   0.   0.   0.   0. 183. 252. 114. 216.   0.   0.   0.   0. 184.\n",
      "   1. 153.  52.   0.   0.   0.   0. 184.   6. 191. 144.   0.   0.   0.\n",
      "   0. 184.  11. 229. 236.   0.   0.   0.   0. 184.  17.  12.  72.   0.\n",
      "   0.   0.   0. 184.  32. 127.  92.   0.   0.   0.   0. 184.  37. 165.\n",
      " 184.   0.   0.   0.   0. 184.  42. 204.  20.   0.   0.   0.   0. 184.\n",
      "  47. 242. 112.   0.   0.   0.   0. 184.  53.  24. 204.   0.   0.   0.\n",
      "   0. 184.  68. 139. 224.   0.   0.   0.   0. 184.  73. 178.  60.   0.\n",
      "   0.   0.   0. 184.  78. 216. 152.   0.   0.   0.   0. 184.  83. 254.\n",
      " 244.   0.   0.   0.   0. 184.  89.  37.  80.   0.   0.   0.   0. 184.\n",
      " 104. 152. 100.   0.   0.   0.   0. 184. 109. 190. 192.   0.   0.   0.\n",
      "   0. 184. 114. 229.  28.   0.   0.   0.   0. 184. 120.  11. 120.   0.\n",
      "   0.   0.   0. 184. 125.  49. 212.   0.   0.   0.   0. 184. 140. 164.\n",
      " 232.   0.   0.   0.   0. 184. 145. 203.  68.   0.   0.   0.   0. 184.\n",
      " 150. 241. 160.   0.   0.   0.   0. 184. 156.  23. 252.   0.   0.   0.\n",
      "   0. 184. 161.  62.  88.   0.]\n"
     ]
    },
    {
     "name": "stderr",
     "output_type": "stream",
     "text": [
      "/home/dimi/.local/lib/python3.10/site-packages/stable_baselines3/common/env_checker.py:453: UserWarning: We recommend you to use a symmetric and normalized Box action space (range=[-1, 1]) cf. https://stable-baselines3.readthedocs.io/en/master/guide/rl_tips.html\n",
      "  warnings.warn(\n",
      "/home/dimi/.local/lib/python3.10/site-packages/stable_baselines3/common/env_checker.py:464: UserWarning: Your action space has dtype float64, we recommend using np.float32 to avoid cast errors.\n",
      "  warnings.warn(\n"
     ]
    }
   ],
   "source": [
    "from stable_baselines3.common.env_checker import check_env\n",
    "env = CompressionEnv()\n",
    "obs, _ = env.reset()\n",
    "print(obs)\n",
    "check_env(env)"
   ]
  },
  {
   "cell_type": "code",
   "execution_count": 4,
   "metadata": {},
   "outputs": [],
   "source": [
    "import warnings\n",
    "warnings.filterwarnings(\"ignore\", category=np.VisibleDeprecationWarning) "
   ]
  },
  {
   "cell_type": "code",
   "execution_count": 5,
   "metadata": {},
   "outputs": [
    {
     "name": "stdout",
     "output_type": "stream",
     "text": [
      "Using cuda device\n"
     ]
    },
    {
     "data": {
      "application/vnd.jupyter.widget-view+json": {
       "model_id": "84c20335d0ef4f29beef5834d1d55581",
       "version_major": 2,
       "version_minor": 0
      },
      "text/plain": [
       "Output()"
      ]
     },
     "metadata": {},
     "output_type": "display_data"
    },
    {
     "name": "stdout",
     "output_type": "stream",
     "text": [
      "---------------------------------\n",
      "| time/              |          |\n",
      "|    episodes        | 4        |\n",
      "|    fps             | 58       |\n",
      "|    time_elapsed    | 91       |\n",
      "|    total_timesteps | 5409     |\n",
      "| train/             |          |\n",
      "|    actor_loss      | 1.97     |\n",
      "|    critic_loss     | 0.355    |\n",
      "|    learning_rate   | 0.001    |\n",
      "|    n_updates       | 5308     |\n",
      "---------------------------------\n"
     ]
    },
    {
     "name": "stdout",
     "output_type": "stream",
     "text": [
      "---------------------------------\n",
      "| time/              |          |\n",
      "|    episodes        | 8        |\n",
      "|    fps             | 59       |\n",
      "|    time_elapsed    | 97       |\n",
      "|    total_timesteps | 5808     |\n",
      "| train/             |          |\n",
      "|    actor_loss      | 2.09     |\n",
      "|    critic_loss     | 0.488    |\n",
      "|    learning_rate   | 0.001    |\n",
      "|    n_updates       | 5707     |\n",
      "---------------------------------\n"
     ]
    },
    {
     "name": "stdout",
     "output_type": "stream",
     "text": [
      "---------------------------------\n",
      "| time/              |          |\n",
      "|    episodes        | 12       |\n",
      "|    fps             | 57       |\n",
      "|    time_elapsed    | 113      |\n",
      "|    total_timesteps | 6544     |\n",
      "| train/             |          |\n",
      "|    actor_loss      | 2.16     |\n",
      "|    critic_loss     | 0.337    |\n",
      "|    learning_rate   | 0.001    |\n",
      "|    n_updates       | 6443     |\n",
      "---------------------------------\n"
     ]
    },
    {
     "name": "stdout",
     "output_type": "stream",
     "text": [
      "---------------------------------\n",
      "| time/              |          |\n",
      "|    episodes        | 16       |\n",
      "|    fps             | 57       |\n",
      "|    time_elapsed    | 120      |\n",
      "|    total_timesteps | 6968     |\n",
      "| train/             |          |\n",
      "|    actor_loss      | 2.02     |\n",
      "|    critic_loss     | 0.394    |\n",
      "|    learning_rate   | 0.001    |\n",
      "|    n_updates       | 6867     |\n",
      "---------------------------------\n"
     ]
    },
    {
     "name": "stdout",
     "output_type": "stream",
     "text": [
      "---------------------------------\n",
      "| time/              |          |\n",
      "|    episodes        | 20       |\n",
      "|    fps             | 57       |\n",
      "|    time_elapsed    | 126      |\n",
      "|    total_timesteps | 7274     |\n",
      "| train/             |          |\n",
      "|    actor_loss      | 2.68     |\n",
      "|    critic_loss     | 0.414    |\n",
      "|    learning_rate   | 0.001    |\n",
      "|    n_updates       | 7173     |\n",
      "---------------------------------\n"
     ]
    },
    {
     "name": "stdout",
     "output_type": "stream",
     "text": [
      "---------------------------------\n",
      "| time/              |          |\n",
      "|    episodes        | 24       |\n",
      "|    fps             | 57       |\n",
      "|    time_elapsed    | 132      |\n",
      "|    total_timesteps | 7622     |\n",
      "| train/             |          |\n",
      "|    actor_loss      | 4.52     |\n",
      "|    critic_loss     | 0.874    |\n",
      "|    learning_rate   | 0.001    |\n",
      "|    n_updates       | 7521     |\n",
      "---------------------------------\n"
     ]
    },
    {
     "name": "stdout",
     "output_type": "stream",
     "text": [
      "---------------------------------\n",
      "| time/              |          |\n",
      "|    episodes        | 28       |\n",
      "|    fps             | 57       |\n",
      "|    time_elapsed    | 137      |\n",
      "|    total_timesteps | 7904     |\n",
      "| train/             |          |\n",
      "|    actor_loss      | 2.56     |\n",
      "|    critic_loss     | 0.553    |\n",
      "|    learning_rate   | 0.001    |\n",
      "|    n_updates       | 7803     |\n",
      "---------------------------------\n"
     ]
    },
    {
     "name": "stdout",
     "output_type": "stream",
     "text": [
      "---------------------------------\n",
      "| time/              |          |\n",
      "|    episodes        | 32       |\n",
      "|    fps             | 58       |\n",
      "|    time_elapsed    | 228      |\n",
      "|    total_timesteps | 13252    |\n",
      "| train/             |          |\n",
      "|    actor_loss      | 3.65     |\n",
      "|    critic_loss     | 0.711    |\n",
      "|    learning_rate   | 0.001    |\n",
      "|    n_updates       | 13151    |\n",
      "---------------------------------\n"
     ]
    },
    {
     "name": "stdout",
     "output_type": "stream",
     "text": [
      "---------------------------------\n",
      "| time/              |          |\n",
      "|    episodes        | 36       |\n",
      "|    fps             | 64       |\n",
      "|    time_elapsed    | 331      |\n",
      "|    total_timesteps | 21254    |\n",
      "| train/             |          |\n",
      "|    actor_loss      | 7.42     |\n",
      "|    critic_loss     | 1.53     |\n",
      "|    learning_rate   | 0.001    |\n",
      "|    n_updates       | 21153    |\n",
      "---------------------------------\n"
     ]
    },
    {
     "name": "stdout",
     "output_type": "stream",
     "text": [
      "---------------------------------\n",
      "| time/              |          |\n",
      "|    episodes        | 40       |\n",
      "|    fps             | 63       |\n",
      "|    time_elapsed    | 336      |\n",
      "|    total_timesteps | 21511    |\n",
      "| train/             |          |\n",
      "|    actor_loss      | 8.05     |\n",
      "|    critic_loss     | 0.766    |\n",
      "|    learning_rate   | 0.001    |\n",
      "|    n_updates       | 21410    |\n",
      "---------------------------------\n"
     ]
    },
    {
     "name": "stdout",
     "output_type": "stream",
     "text": [
      "---------------------------------\n",
      "| time/              |          |\n",
      "|    episodes        | 44       |\n",
      "|    fps             | 63       |\n",
      "|    time_elapsed    | 348      |\n",
      "|    total_timesteps | 22172    |\n",
      "| train/             |          |\n",
      "|    actor_loss      | 9.1      |\n",
      "|    critic_loss     | 1.67     |\n",
      "|    learning_rate   | 0.001    |\n",
      "|    n_updates       | 22071    |\n",
      "---------------------------------\n"
     ]
    },
    {
     "name": "stdout",
     "output_type": "stream",
     "text": [
      "---------------------------------\n",
      "| time/              |          |\n",
      "|    episodes        | 48       |\n",
      "|    fps             | 63       |\n",
      "|    time_elapsed    | 359      |\n",
      "|    total_timesteps | 22748    |\n",
      "| train/             |          |\n",
      "|    actor_loss      | 7.02     |\n",
      "|    critic_loss     | 0.732    |\n",
      "|    learning_rate   | 0.001    |\n",
      "|    n_updates       | 22647    |\n",
      "---------------------------------\n"
     ]
    },
    {
     "name": "stdout",
     "output_type": "stream",
     "text": [
      "---------------------------------\n",
      "| time/              |          |\n",
      "|    episodes        | 52       |\n",
      "|    fps             | 63       |\n",
      "|    time_elapsed    | 363      |\n",
      "|    total_timesteps | 23006    |\n",
      "| train/             |          |\n",
      "|    actor_loss      | 9.83     |\n",
      "|    critic_loss     | 0.416    |\n",
      "|    learning_rate   | 0.001    |\n",
      "|    n_updates       | 22905    |\n",
      "---------------------------------\n"
     ]
    },
    {
     "name": "stdout",
     "output_type": "stream",
     "text": [
      "---------------------------------\n",
      "| time/              |          |\n",
      "|    episodes        | 56       |\n",
      "|    fps             | 62       |\n",
      "|    time_elapsed    | 456      |\n",
      "|    total_timesteps | 28512    |\n",
      "| train/             |          |\n",
      "|    actor_loss      | 11.6     |\n",
      "|    critic_loss     | 0.71     |\n",
      "|    learning_rate   | 0.001    |\n",
      "|    n_updates       | 28411    |\n",
      "---------------------------------\n"
     ]
    },
    {
     "name": "stdout",
     "output_type": "stream",
     "text": [
      "---------------------------------\n",
      "| time/              |          |\n",
      "|    episodes        | 60       |\n",
      "|    fps             | 62       |\n",
      "|    time_elapsed    | 458      |\n",
      "|    total_timesteps | 28642    |\n",
      "| train/             |          |\n",
      "|    actor_loss      | 10.1     |\n",
      "|    critic_loss     | 11.6     |\n",
      "|    learning_rate   | 0.001    |\n",
      "|    n_updates       | 28541    |\n",
      "---------------------------------\n"
     ]
    },
    {
     "name": "stdout",
     "output_type": "stream",
     "text": [
      "---------------------------------\n",
      "| time/              |          |\n",
      "|    episodes        | 64       |\n",
      "|    fps             | 62       |\n",
      "|    time_elapsed    | 468      |\n",
      "|    total_timesteps | 29141    |\n",
      "| train/             |          |\n",
      "|    actor_loss      | 13.5     |\n",
      "|    critic_loss     | 0.908    |\n",
      "|    learning_rate   | 0.001    |\n",
      "|    n_updates       | 29040    |\n",
      "---------------------------------\n"
     ]
    },
    {
     "name": "stdout",
     "output_type": "stream",
     "text": [
      "---------------------------------\n",
      "| time/              |          |\n",
      "|    episodes        | 68       |\n",
      "|    fps             | 61       |\n",
      "|    time_elapsed    | 480      |\n",
      "|    total_timesteps | 29742    |\n",
      "| train/             |          |\n",
      "|    actor_loss      | 10.9     |\n",
      "|    critic_loss     | 0.911    |\n",
      "|    learning_rate   | 0.001    |\n",
      "|    n_updates       | 29641    |\n",
      "---------------------------------\n"
     ]
    },
    {
     "name": "stdout",
     "output_type": "stream",
     "text": [
      "---------------------------------\n",
      "| time/              |          |\n",
      "|    episodes        | 72       |\n",
      "|    fps             | 62       |\n",
      "|    time_elapsed    | 562      |\n",
      "|    total_timesteps | 35013    |\n",
      "| train/             |          |\n",
      "|    actor_loss      | 10.1     |\n",
      "|    critic_loss     | 0.618    |\n",
      "|    learning_rate   | 0.001    |\n",
      "|    n_updates       | 34912    |\n",
      "---------------------------------\n"
     ]
    },
    {
     "name": "stdout",
     "output_type": "stream",
     "text": [
      "---------------------------------\n",
      "| time/              |          |\n",
      "|    episodes        | 76       |\n",
      "|    fps             | 62       |\n",
      "|    time_elapsed    | 645      |\n",
      "|    total_timesteps | 40461    |\n",
      "| train/             |          |\n",
      "|    actor_loss      | 10.7     |\n",
      "|    critic_loss     | 0.477    |\n",
      "|    learning_rate   | 0.001    |\n",
      "|    n_updates       | 40360    |\n",
      "---------------------------------\n"
     ]
    },
    {
     "name": "stdout",
     "output_type": "stream",
     "text": [
      "---------------------------------\n",
      "| time/              |          |\n",
      "|    episodes        | 80       |\n",
      "|    fps             | 62       |\n",
      "|    time_elapsed    | 647      |\n",
      "|    total_timesteps | 40616    |\n",
      "| train/             |          |\n",
      "|    actor_loss      | 10.4     |\n",
      "|    critic_loss     | 1.1      |\n",
      "|    learning_rate   | 0.001    |\n",
      "|    n_updates       | 40515    |\n",
      "---------------------------------\n"
     ]
    },
    {
     "name": "stdout",
     "output_type": "stream",
     "text": [
      "---------------------------------\n",
      "| time/              |          |\n",
      "|    episodes        | 84       |\n",
      "|    fps             | 63       |\n",
      "|    time_elapsed    | 727      |\n",
      "|    total_timesteps | 46258    |\n",
      "| train/             |          |\n",
      "|    actor_loss      | 11.4     |\n",
      "|    critic_loss     | 0.572    |\n",
      "|    learning_rate   | 0.001    |\n",
      "|    n_updates       | 46157    |\n",
      "---------------------------------\n"
     ]
    },
    {
     "data": {
      "text/html": [
       "<pre style=\"white-space:pre;overflow-x:auto;line-height:normal;font-family:Menlo,'DejaVu Sans Mono',consolas,'Courier New',monospace\"></pre>\n"
      ],
      "text/plain": []
     },
     "metadata": {},
     "output_type": "display_data"
    },
    {
     "data": {
      "text/html": [
       "<pre style=\"white-space:pre;overflow-x:auto;line-height:normal;font-family:Menlo,'DejaVu Sans Mono',consolas,'Courier New',monospace\">\n",
       "</pre>\n"
      ],
      "text/plain": [
       "\n"
      ]
     },
     "metadata": {},
     "output_type": "display_data"
    }
   ],
   "source": [
    "#Use SAC from stable baselines\n",
    "from stable_baselines3 import TD3\n",
    "from stable_baselines3.sac.policies import MlpPolicy, MultiInputPolicy\n",
    "from stable_baselines3.common.vec_env import DummyVecEnv\n",
    "from stable_baselines3.common.noise import NormalActionNoise, OrnsteinUhlenbeckActionNoise\n",
    "\n",
    "env = CompressionEnv()\n",
    "env = DummyVecEnv([lambda: env])\n",
    "\n",
    "n_actions = env.action_space.shape[-1]\n",
    "action_noise = NormalActionNoise(mean=np.zeros(n_actions), sigma=0.1 * np.ones(n_actions))\n",
    "\n",
    "#Add progress bar for learning\n",
    "model = TD3('MlpPolicy', env, action_noise=action_noise, verbose=1)\n",
    "model3 = model.learn(total_timesteps=50000, progress_bar=True)\n"
   ]
  },
  {
   "cell_type": "code",
   "execution_count": 31,
   "metadata": {},
   "outputs": [
    {
     "data": {
      "application/vnd.jupyter.widget-view+json": {
       "model_id": "47e438cda1a047a7ba434a0925033ad7",
       "version_major": 2,
       "version_minor": 0
      },
      "text/plain": [
       "Output()"
      ]
     },
     "metadata": {},
     "output_type": "display_data"
    },
    {
     "name": "stdout",
     "output_type": "stream",
     "text": [
      "---------------------------------\n",
      "| time/              |          |\n",
      "|    episodes        | 4        |\n",
      "|    fps             | 35       |\n",
      "|    time_elapsed    | 7        |\n",
      "|    total_timesteps | 265      |\n",
      "| train/             |          |\n",
      "|    actor_loss      | -3.02    |\n",
      "|    critic_loss     | 0.179    |\n",
      "|    learning_rate   | 0.001    |\n",
      "|    n_updates       | 10064    |\n",
      "---------------------------------\n"
     ]
    },
    {
     "name": "stdout",
     "output_type": "stream",
     "text": [
      "---------------------------------\n",
      "| time/              |          |\n",
      "|    episodes        | 8        |\n",
      "|    fps             | 23       |\n",
      "|    time_elapsed    | 28       |\n",
      "|    total_timesteps | 689      |\n",
      "| train/             |          |\n",
      "|    actor_loss      | -4.22    |\n",
      "|    critic_loss     | 0.163    |\n",
      "|    learning_rate   | 0.001    |\n",
      "|    n_updates       | 10488    |\n",
      "---------------------------------\n"
     ]
    },
    {
     "name": "stdout",
     "output_type": "stream",
     "text": [
      "---------------------------------\n",
      "| time/              |          |\n",
      "|    episodes        | 12       |\n",
      "|    fps             | 19       |\n",
      "|    time_elapsed    | 54       |\n",
      "|    total_timesteps | 1064     |\n",
      "| train/             |          |\n",
      "|    actor_loss      | -3.99    |\n",
      "|    critic_loss     | 0.151    |\n",
      "|    learning_rate   | 0.001    |\n",
      "|    n_updates       | 10863    |\n",
      "---------------------------------\n"
     ]
    },
    {
     "name": "stdout",
     "output_type": "stream",
     "text": [
      "---------------------------------\n",
      "| time/              |          |\n",
      "|    episodes        | 16       |\n",
      "|    fps             | 17       |\n",
      "|    time_elapsed    | 109      |\n",
      "|    total_timesteps | 1859     |\n",
      "| train/             |          |\n",
      "|    actor_loss      | -4.87    |\n",
      "|    critic_loss     | 1.39     |\n",
      "|    learning_rate   | 0.001    |\n",
      "|    n_updates       | 11658    |\n",
      "---------------------------------\n"
     ]
    },
    {
     "name": "stdout",
     "output_type": "stream",
     "text": [
      "---------------------------------\n",
      "| time/              |          |\n",
      "|    episodes        | 20       |\n",
      "|    fps             | 16       |\n",
      "|    time_elapsed    | 138      |\n",
      "|    total_timesteps | 2335     |\n",
      "| train/             |          |\n",
      "|    actor_loss      | -5.9     |\n",
      "|    critic_loss     | 0.299    |\n",
      "|    learning_rate   | 0.001    |\n",
      "|    n_updates       | 12134    |\n",
      "---------------------------------\n"
     ]
    },
    {
     "data": {
      "text/html": [
       "<pre style=\"white-space:pre;overflow-x:auto;line-height:normal;font-family:Menlo,'DejaVu Sans Mono',consolas,'Courier New',monospace\"></pre>\n"
      ],
      "text/plain": []
     },
     "metadata": {},
     "output_type": "display_data"
    },
    {
     "data": {
      "text/html": [
       "<pre style=\"white-space:pre;overflow-x:auto;line-height:normal;font-family:Menlo,'DejaVu Sans Mono',consolas,'Courier New',monospace\">\n",
       "</pre>\n"
      ],
      "text/plain": [
       "\n"
      ]
     },
     "metadata": {},
     "output_type": "display_data"
    }
   ],
   "source": [
    "model3 = model.learn(total_timesteps=10000, progress_bar=True)\n"
   ]
  },
  {
   "cell_type": "code",
   "execution_count": 6,
   "metadata": {},
   "outputs": [],
   "source": [
    "#save the model\n",
    "model.save(\"TD3_CompressionEnv\")"
   ]
  },
  {
   "cell_type": "code",
   "execution_count": 14,
   "metadata": {},
   "outputs": [
    {
     "name": "stdout",
     "output_type": "stream",
     "text": [
      "Using cpu device\n",
      "Wrapping the env with a `Monitor` wrapper\n",
      "Wrapping the env in a DummyVecEnv.\n"
     ]
    }
   ],
   "source": [
    "model2 = TD3('MlpPolicy', env, action_noise=action_noise, verbose=1)"
   ]
  },
  {
   "cell_type": "code",
   "execution_count": 1,
   "metadata": {},
   "outputs": [
    {
     "data": {
      "text/plain": [
       "[]"
      ]
     },
     "execution_count": 1,
     "metadata": {},
     "output_type": "execute_result"
    }
   ],
   "source": [
    "import tensorflow as tf\n",
    "tf.config.list_physical_devices('GPU')"
   ]
  },
  {
   "cell_type": "code",
   "execution_count": 12,
   "metadata": {},
   "outputs": [
    {
     "name": "stdout",
     "output_type": "stream",
     "text": [
      "-0.00013373702003559833\n",
      "-0.6978397705457521 5218\n",
      "ceva\n"
     ]
    }
   ],
   "source": [
    "env = CompressionEnv()\n",
    "obs, _ = env.reset()\n",
    "\n",
    "action, _states = model.predict(obs)\n",
    "state, reward, done, truncated, info = env.step(action)\n",
    "sum = reward\n",
    "ct = 1\n",
    "while not done:\n",
    "    action, _state = model3.predict(state)\n",
    "    state, reward, done, truncarted, info = env.step(action)\n",
    "    sum += reward\n",
    "    ct += 1\n",
    "print(reward / ct)\n",
    "print(reward, ct)\n",
    "print('ceva')"
   ]
  },
  {
   "cell_type": "code",
   "execution_count": null,
   "metadata": {},
   "outputs": [],
   "source": [
    "from transform_primitives import xor, delta_xor, delta, delta_of_delta, rev_delta, rev_delta_of_delta\n",
    "from compression_primitives import bitmask, offset, trailing_zero\n",
    "env = CompressionEnv()\n",
    "#env.get_ts()\n",
    "print(env.metrics[0])\n",
    "sample = env.metrics[0]\n",
    "prev = env.last_2_metric\n",
    "print(prev)\n",
    "transformers = [delta, delta_of_delta, rev_delta, rev_delta_of_delta]\n",
    "avg = 0\n",
    "ct = 0\n",
    "for j in range(len(env.metrics)):\n",
    "    sample = env.metrics[j]\n",
    "    for i in range(len(sample)):\n",
    "        ct += 1\n",
    "        mini = 64\n",
    "        for t in transformers:\n",
    "            val = t(prev[0], prev[1], sample[i])\n",
    "            val = int(num_to_bits(val), 2)\n",
    "            mini = min(mini, bitmask(val, 0), offset(val, 0), trailing_zero(val), offset(val, 1), offset(val, 2), bitmask(val, 1))\n",
    "        avg += mini\n",
    "        prev[0] = prev[1]\n",
    "        prev[1] = sample[i]\n",
    "print(avg / ct)\n",
    "#daily-temperature 61.26 avg\n",
    "#gold 61.82"
   ]
  },
  {
   "cell_type": "code",
   "execution_count": null,
   "metadata": {},
   "outputs": [],
   "source": [
    "action = [3, 0, 1, 3, 0, 1, 0, 0, 0, 0]\n",
    "env2 = CompressionEnv()\n",
    "print(env2.state)\n",
    "state, reward, done, truncated, info = env2.step(action)\n",
    "print(reward)"
   ]
  },
  {
   "cell_type": "code",
   "execution_count": null,
   "metadata": {},
   "outputs": [],
   "source": [
    "df = pd.read_csv('Gold.csv')\n",
    "x = pd.to_datetime(df['DATE'], format='%Y/%m/%d')\n",
    "print(x.astype(np.int64))"
   ]
  },
  {
   "cell_type": "code",
   "execution_count": null,
   "metadata": {},
   "outputs": [],
   "source": [
    "from utilities import int_to_bits, float_to_bits\n",
    "print(int_to_bits(57), float_to_bits(2.257))"
   ]
  }
 ],
 "metadata": {
  "kernelspec": {
   "display_name": "Python 3",
   "language": "python",
   "name": "python3"
  },
  "language_info": {
   "codemirror_mode": {
    "name": "ipython",
    "version": 3
   },
   "file_extension": ".py",
   "mimetype": "text/x-python",
   "name": "python",
   "nbconvert_exporter": "python",
   "pygments_lexer": "ipython3",
   "version": "3.10.12"
  }
 },
 "nbformat": 4,
 "nbformat_minor": 2
}
