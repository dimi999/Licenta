{
 "cells": [
  {
   "cell_type": "code",
   "execution_count": 7,
   "metadata": {},
   "outputs": [],
   "source": [
    "import gymnasium as gym\n",
    "import numpy as np\n",
    "from random import sample\n",
    "import pandas as pd\n",
    "from utilities import split_in_blocks, float_to_bits, int_to_bits, read_timestamps, bits_to_int, unsigned_to_signed, bits_to_int_unsigned, bits_to_float\n",
    "from transform_primitives import delta_of_delta\n",
    "from compression_primitives import bitmask, trailing_zero\n",
    "from constants import parameters_dict\n",
    "import math\n",
    "import struct\n",
    "\n",
    "class CompressionEnv(gym.Env):\n",
    "    def __init__(self):\n",
    "        self.action_space = gym.spaces.Box(low=np.array([0, 0, 0, 0, 0, 0, 0, 0, 0]), high=np.array([5, 5, 4, 4, 4, 7, 1, 1, 1]), shape=(9,),  dtype=np.float64)\n",
    "        self.observation_space = gym.spaces.Box(low=np.array([0 for i in range(34 * 8)] ), high=np.array([255 for i in range(34 * 8)]), shape=(34 * 8,),  dtype=np.float32)\n",
    "        self.idx = 0\n",
    "        self.timeseries = ['monthly-beer-production.csv', 'monthly-housing.csv', 'Twitter_volume_AMZN.csv', 'nyc_taxi.csv', 'network.csv', 'cpu_utilization.csv', 'art-price.csv', 'Gold.csv', 'Electric_Production.csv', 'daily-temperatures.csv', 'oil.csv', 'transactions.csv']\n",
    "        self.timestamps = []\n",
    "        self.timestamps_ratio = 0\n",
    "        self.metrics = []\n",
    "        self.paramters = parameters_dict\n",
    "        self.last_2_metric = []\n",
    "        self.compressed_block = ''\n",
    "        self.get_ts()\n",
    "        \n",
    "\n",
    "    def get_ts(self):\n",
    "        my_ts = sample(self.timeseries, 1)\n",
    "        print(my_ts[0])\n",
    "        df = pd.read_csv(my_ts[0])\n",
    "        self.timestamps = read_timestamps(df)\n",
    "        self.timestamps_ratio, compression = self.compress_timestamps(self.timestamps)\n",
    "        self.idx = 0\n",
    "        \n",
    "        self.metrics = (df.iloc[:, 1]).astype(np.float64).values\n",
    "        self.metrics[np.isnan(self.metrics)==True] = 0\n",
    "        self.timestamps[np.isnan(self.timestamps)==True] = 0\n",
    "        self.last_2_metric = self.metrics[:2]\n",
    "        self.metrics = split_in_blocks(self.metrics[2:])\n",
    "\n",
    "        self.state = self.metrics[0]\n",
    "\n",
    "    def compress_timestamps(self, timestamps):\n",
    "        sum = 192\n",
    "        header = int_to_bits(len(timestamps) - 2)\n",
    "        data = int_to_bits(timestamps[0]) + int_to_bits(timestamps[1])\n",
    "        last_2 = [timestamps[0], timestamps[1]]\n",
    "\n",
    "        for i in range(2, len(timestamps)):\n",
    "            val = delta_of_delta(last_2[0], last_2[1], timestamps[i])\n",
    "            if val == 0:\n",
    "                header += '0'\n",
    "                sum += 1\n",
    "            else:\n",
    "                header += '1'\n",
    "                sum += 1\n",
    "                if val > 0:\n",
    "                    val -= 1\n",
    "                if -3 <= val <= 4:\n",
    "                    data += '1'\n",
    "                    sum += 4\n",
    "                    data += int_to_bits(val)[-3:]\n",
    "                elif -31 <= val <= 32:\n",
    "                    data += '01'\n",
    "                    sum += 8\n",
    "                    data += int_to_bits(val)[-6:]\n",
    "                else:\n",
    "                    ct_bitmask, compressed_bitmask = bitmask(int_to_bits(val), 0)\n",
    "                    ct_trailing_zeros, compressed_trailing = trailing_zero(int_to_bits(val))\n",
    "\n",
    "                    if ct_bitmask < ct_trailing_zeros:\n",
    "                        data += '001'\n",
    "                        sum += ct_bitmask + 3\n",
    "                        data += compressed_bitmask\n",
    "                    else:\n",
    "                        data += '000'\n",
    "                        sum += ct_trailing_zeros + 3\n",
    "                        data += compressed_trailing\n",
    "            last_2 = [last_2[1], timestamps[i]]\n",
    "        \n",
    "        return (len(timestamps) * 64 / sum), header + data\n",
    "\n",
    "    def decompress_timestamps(self, compressed):\n",
    "        size = int(compressed[:64], 2)\n",
    "        header = compressed[64:64+size]\n",
    "        data = compressed[64+size:]\n",
    "\n",
    "        orig_timestamps = []\n",
    "\n",
    "        orig_timestamps.append(int(data[:64], 2))\n",
    "        orig_timestamps.append(int(data[64:128], 2))\n",
    "\n",
    "        last_2 = [orig_timestamps[0], orig_timestamps[1]]\n",
    "\n",
    "        data_idx = 128\n",
    "\n",
    "        for x in header:\n",
    "            if x == '0':\n",
    "                orig_timestamps.append(2 * last_2[1] - last_2[0])\n",
    "            else:\n",
    "                if data[data_idx] == '1':\n",
    "                    val = bits_to_int(data[data_idx+1:data_idx+4])\n",
    "                    if val >= 0:\n",
    "                        val += 1\n",
    "                    orig_timestamps.append(val + 2 * last_2[1] - last_2[0])\n",
    "                    data_idx += 4\n",
    "                else:\n",
    "                    if data[data_idx+1] == '1':\n",
    "                        val = bits_to_int(data[data_idx+2:data_idx+8])\n",
    "                        if val >= 0:\n",
    "                            val += 1\n",
    "                        orig_timestamps.append(val + 2 * last_2[1] - last_2[0])\n",
    "                        data_idx += 8\n",
    "                    else:\n",
    "                        val = 0\n",
    "                        if data[data_idx+2] == '1':\n",
    "                            last_bit = data_idx + 11\n",
    "                            mask = data[data_idx+3:data_idx+11]\n",
    "                            for bit in mask:\n",
    "                                if bit == '0':\n",
    "                                    val <<= 8\n",
    "                                else:\n",
    "                                    crt_byte = data[last_bit:last_bit+8]\n",
    "                                    val = (val << 8) + int(crt_byte, 2)\n",
    "                                    last_bit += 8\n",
    "                            data_idx = last_bit + 8\n",
    "                        else:\n",
    "                            ct_zero_bytes = int(data[data_idx+3:data_idx+6], 2)\n",
    "                            ct_non_zero_bytes = int(data[data_idx+6:data_idx+9], 2) + 1\n",
    "\n",
    "                            for i in range(ct_non_zero_bytes):\n",
    "                                crt_byte = data[data_idx+9+i*8:data_idx+9+(i+1)*8]\n",
    "                                val = (val << 8) + int(crt_byte, 2)\n",
    "                            val = (val << 8 * ct_zero_bytes)\n",
    "                            data_idx += 9 + ct_non_zero_bytes * 8\n",
    "                        val = unsigned_to_signed(val)\n",
    "                        if val >= 0:\n",
    "                            val += 1\n",
    "                        orig_timestamps.append(val + 2 * last_2[1] - last_2[0])\n",
    "                            \n",
    "            last_2 = [last_2[1], orig_timestamps[-1]]\n",
    "        return orig_timestamps\n",
    "\n",
    "\n",
    "    def bytes(self, vec):\n",
    "        res = []\n",
    "        for x in vec:\n",
    "            y = float_to_bits(x)\n",
    "            for start in range(0, 64, 8):\n",
    "                byte = y[start:start+8]\n",
    "                byte = int(byte, 2)\n",
    "                res.append(byte)\n",
    "        return np.asarray(res).astype(np.float32)\n",
    "\n",
    "    def decompress_metrics(self, compressed_block):\n",
    "        params = compressed_block[:21]\n",
    "        trans1 = bits_to_int_unsigned(params[:3])\n",
    "        trans2 = bits_to_int_unsigned(params[3:6])\n",
    "        compress1 = bits_to_int_unsigned(params[6:9])\n",
    "        compress2 = bits_to_int_unsigned(params[9:12])\n",
    "        compress3 = bits_to_int_unsigned(params[12:15])\n",
    "        offByteShift1 = bits_to_int_unsigned(params[15:18])\n",
    "        offByteShift2 = bits_to_int_unsigned(params[18:19])\n",
    "        offByteShift3 = bits_to_int_unsigned(params[19:20])\n",
    "        offBitmask = bits_to_int_unsigned(params[20:21])\n",
    "        encoding = {\n",
    "            '010': (0, 0),\n",
    "            '011': (0, 1),\n",
    "            '100': (0, 2),\n",
    "            '101': (1, 0),\n",
    "            '110': (1, 1),\n",
    "            '111': (1, 2),\n",
    "            '001': (-1, -1),\n",
    "            '000': (3, 3)\n",
    "        }\n",
    "\n",
    "        transVec = [self.paramters[7][trans1], self.paramters[7][trans2]]\n",
    "        compressVec = [self.paramters[4][compress1], self.paramters[5][compress2], self.paramters[6][compress3]]\n",
    "\n",
    "        proper_block = compressed_block[21:]\n",
    "\n",
    "        orig_block = []\n",
    "        prev = self.last_2_metric\n",
    "        step = 0\n",
    "\n",
    "        while step < len(proper_block):\n",
    "            encoding_type = proper_block[step:step+3]\n",
    "            crt_params = encoding[encoding_type]\n",
    "\n",
    "            if crt_params == (3, 3):\n",
    "                idx = int(proper_block[step+3])\n",
    "                orig_block.append(transVec[idx](prev[0], prev[1], 0))\n",
    "                step += 4\n",
    "            elif crt_params == (-1, -1):\n",
    "                orig_block.append(bits_to_float(proper_block[step+3:step+67]))\n",
    "                step += 67\n",
    "            else:\n",
    "                idx1, idx2 = crt_params\n",
    "                if compressVec[idx2][0].__name__ == 'bitmask':\n",
    "                    mask = proper_block[step + 3: step + 11 - offBitmask]\n",
    "                    val = ''\n",
    "                    step = step + 11 - offBitmask\n",
    "                    for j in mask:\n",
    "                        if j == '0':\n",
    "                            val += '00000000'\n",
    "                        else:\n",
    "                            val += proper_block[step:step + 8]\n",
    "                            step += 8\n",
    "                    val += (offBitmask * 8) * '0'\n",
    "                    val = bits_to_float(val)\n",
    "                    orig_block.append(transVec[idx1](prev[0], prev[1], val))\n",
    "                elif compressVec[idx2][0].__name__ == 'offset':\n",
    "                    offset = offByteShift1\n",
    "                    match compressVec[idx2][1]:\n",
    "                        case 1:\n",
    "                            offset = offByteShift1\n",
    "                        case 2:\n",
    "                            offset = offByteShift1 - offByteShift2\n",
    "                        case 3:\n",
    "                            offset = offByteShift1 - offByteShift2 - offByteShift3\n",
    "                    leading_zeros = 64 - offset * 8 - compressVec[idx2][1] * 7\n",
    "                    val = '0' * leading_zeros + proper_block[step+3:step+3+compressVec[idx2][1] * 7] + '0' * (offset * 8)\n",
    "                    value = bits_to_float(val)\n",
    "                    value = transVec[idx1](prev[0], prev[1], value)\n",
    "                    orig_block.append(value)\n",
    "                    step = step + 3 + compressVec[idx2][1] * 7\n",
    "                else:\n",
    "                    ct_zero_bytes = int(proper_block[step+3:step+6], 2)\n",
    "                    ct_non_zero_bytes = int(proper_block[step+6:step+9], 2) + 1\n",
    "\n",
    "                    val = 8 * (8 - ct_zero_bytes - ct_non_zero_bytes) * '0'\n",
    "\n",
    "                    for j in range(ct_non_zero_bytes):\n",
    "                        crt_byte = proper_block[step+9+j*8:step+9+(j+1)*8]\n",
    "                        val += crt_byte\n",
    "                    val += ct_zero_bytes * 8 * '0'\n",
    "                    step += 9 + ct_non_zero_bytes * 8\n",
    "                    val = bits_to_float(val)\n",
    "                    val = transVec[idx1](prev[0], prev[1], val)\n",
    "                    \n",
    "                    orig_block.append(val)\n",
    "\n",
    "            prev = [prev[1], orig_block[-1]]\n",
    "        return orig_block\n",
    "\n",
    "\n",
    "    def step(self, action):\n",
    "        params = np.round(action).astype(int)\n",
    "        bits_count = self.compress(params)\n",
    "\n",
    "        reward = self.evaluate(self.state, bits_count + 21)\n",
    "        self.idx += 1\n",
    "        if self.idx >= len(self.metrics):\n",
    "            state = np.pad(self.state, (0, 32 - len(self.state)), 'constant', constant_values=(-1e14, ))\n",
    "            return self.bytes(np.concatenate([self.last_2_metric, state])), reward, True, False, {'block': self.compressed_block, 'params': self.write_params(action)}\n",
    "\n",
    "        self.state = self.metrics[self.idx]\n",
    "\n",
    "        state = np.pad(self.state, (0, 32 - len(self.state)), 'constant', constant_values=(-1e14, ))\n",
    "        return self.bytes(np.concatenate([self.last_2_metric, state])), reward, False, False, {'block': self.compressed_block, 'params': self.write_params(action)}\n",
    "\n",
    "    def write_params(self, action):\n",
    "        params = np.round(action).astype(int)\n",
    "        params_bits = ''\n",
    "        for i in range(6):\n",
    "            params_bits += int_to_bits(params[i])[-3:]\n",
    "        for i in range(6, 9):\n",
    "            params_bits += int_to_bits(params[i])[-1:]\n",
    "        return params_bits\n",
    "\n",
    "    def reset(self, seed=None):\n",
    "        self.get_ts()\n",
    "        return self.bytes(np.concatenate([self.last_2_metric, self.state])), {}\n",
    "\n",
    "    def evaluate(self, original, compressed):\n",
    "        val = (compressed / (len(original) * 64))\n",
    "        return -math.tan(val) / 1.2 + 0.6\n",
    "\n",
    "    def compress(self, params):\n",
    "        self.compressed_block = ''\n",
    "        transTypes = [self.paramters[1][params[0]], self.paramters[2][params[1]]]\n",
    "        compressTypes = [self.paramters[4][params[2]], self.paramters[5][params[3]], self.paramters[6][params[4]]]\n",
    "        encoding = {\n",
    "            (0, 0): '010',\n",
    "            (0, 1): '011',\n",
    "            (0, 2): '100',\n",
    "            (1, 0): '101',\n",
    "            (1, 1): '110',\n",
    "            (1, 2): '111',\n",
    "            (-1, -1): '001',\n",
    "            (3, 3): '000'\n",
    "        }\n",
    "        offByteShift1 = params[5]\n",
    "        offByteShift2 = params[6]\n",
    "        offByteShift3 = params[7]\n",
    "        offBitmask = params[8] \n",
    "        #endian = params[10]\n",
    "\n",
    "        sum = 0\n",
    "\n",
    "        for i in range(len(self.state)):\n",
    "            nr = self.state[i]\n",
    "            opt = 64\n",
    "            opt_compressed = float_to_bits(nr)\n",
    "            idx_op1 = idx_op2 = -1\n",
    "\n",
    "            last_2 = self.last_2_metric\n",
    "            val = 0\n",
    "            for (it, transformer) in enumerate(transTypes):\n",
    "                val = transformer(last_2[0], last_2[1], nr)\n",
    "\n",
    "                if val == 0 and struct.pack('d', val) == struct.pack('d', 0.0):\n",
    "                    opt = 4\n",
    "                    if it == 0:\n",
    "                        opt_compressed = '0'\n",
    "                    else:\n",
    "                        opt_compressed = '1'\n",
    "                    idx_op1 = idx_op2 = 3\n",
    "                    continue\n",
    "\n",
    "                val = float_to_bits(val)\n",
    "\n",
    "                for (j, (compresser, param)) in  enumerate(compressTypes):\n",
    "                    ct_bits = 64\n",
    "                    if compresser.__name__ == 'offset' and param == 1:\n",
    "                        ct_bits, compressed = compresser(val, offByteShift1, 1)\n",
    "                    elif compresser.__name__ == 'offset' and param == 2:\n",
    "                        ct_bits, compressed = compresser(val, offByteShift1 - offByteShift2, 2)\n",
    "                    elif compresser.__name__ == 'offset' and param == 3:\n",
    "                        ct_bits, compressed = compresser(val, offByteShift1 - offByteShift2 - offByteShift3, 3)\n",
    "                    elif compresser.__name__ == 'bitmask':\n",
    "                        ct_bits, compressed = compresser(val, offBitmask)\n",
    "                    elif compresser.__name__ == 'trailing_zero':\n",
    "                        ct_bits, compressed = compresser(val)\n",
    "                        \n",
    "                    if ct_bits < opt:\n",
    "                        opt = ct_bits\n",
    "                        opt_compressed = compressed\n",
    "                        idx_op1 = it\n",
    "                        idx_op2 = j\n",
    "                        \n",
    "            self.last_2_metric = [last_2[1], self.state[i]]\n",
    "            sum += opt + 3\n",
    "            self.compressed_block += encoding[(idx_op1, idx_op2)] + opt_compressed\n",
    "        return sum\n",
    "\n",
    "\n",
    "    def render(self):\n",
    "        #useless\n",
    "        pass\n",
    "\n",
    "    def close(self):\n",
    "        #useless\n",
    "        pass"
   ]
  },
  {
   "cell_type": "code",
   "execution_count": 2,
   "metadata": {},
   "outputs": [
    {
     "name": "stdout",
     "output_type": "stream",
     "text": [
      "-0.07078934742017697 0.33882752143612466 323\n"
     ]
    }
   ],
   "source": [
    "env = CompressionEnv()\n",
    "action = env.action_space.sample()\n",
    "state, reward, done, truncated, info = env.step(action)\n",
    "sum = reward\n",
    "ct = 1\n",
    "maxi = 0\n",
    "while not done:\n",
    "    action = env.action_space.sample()\n",
    "    state, reward, done, truncarted, info = env.step(action)\n",
    "    #print(reward, action, state)\n",
    "    maxi = max(maxi, reward)\n",
    "    sum += reward\n",
    "    ct += 1\n",
    "print(sum / ct, maxi, ct)"
   ]
  },
  {
   "cell_type": "code",
   "execution_count": 3,
   "metadata": {},
   "outputs": [
    {
     "name": "stderr",
     "output_type": "stream",
     "text": [
      "2024-05-26 22:10:15.759012: E external/local_xla/xla/stream_executor/cuda/cuda_dnn.cc:9261] Unable to register cuDNN factory: Attempting to register factory for plugin cuDNN when one has already been registered\n",
      "2024-05-26 22:10:15.759057: E external/local_xla/xla/stream_executor/cuda/cuda_fft.cc:607] Unable to register cuFFT factory: Attempting to register factory for plugin cuFFT when one has already been registered\n",
      "2024-05-26 22:10:15.759857: E external/local_xla/xla/stream_executor/cuda/cuda_blas.cc:1515] Unable to register cuBLAS factory: Attempting to register factory for plugin cuBLAS when one has already been registered\n",
      "2024-05-26 22:10:15.765581: I tensorflow/core/platform/cpu_feature_guard.cc:182] This TensorFlow binary is optimized to use available CPU instructions in performance-critical operations.\n",
      "To enable the following instructions: AVX2 FMA, in other operations, rebuild TensorFlow with the appropriate compiler flags.\n",
      "2024-05-26 22:10:16.531679: W tensorflow/compiler/tf2tensorrt/utils/py_utils.cc:38] TF-TRT Warning: Could not find TensorRT\n",
      "/home/dimi/.local/lib/python3.10/site-packages/stable_baselines3/common/env_checker.py:453: UserWarning: We recommend you to use a symmetric and normalized Box action space (range=[-1, 1]) cf. https://stable-baselines3.readthedocs.io/en/master/guide/rl_tips.html\n",
      "  warnings.warn(\n",
      "/home/dimi/.local/lib/python3.10/site-packages/stable_baselines3/common/env_checker.py:464: UserWarning: Your action space has dtype float64, we recommend using np.float32 to avoid cast errors.\n",
      "  warnings.warn(\n"
     ]
    }
   ],
   "source": [
    "from stable_baselines3.common.env_checker import check_env\n",
    "env = CompressionEnv()\n",
    "obs, _ = env.reset()\n",
    "check_env(env)"
   ]
  },
  {
   "cell_type": "code",
   "execution_count": 4,
   "metadata": {},
   "outputs": [],
   "source": [
    "import warnings\n",
    "warnings.filterwarnings(\"ignore\", category=np.VisibleDeprecationWarning) "
   ]
  },
  {
   "cell_type": "code",
   "execution_count": 5,
   "metadata": {},
   "outputs": [
    {
     "name": "stdout",
     "output_type": "stream",
     "text": [
      "Using cuda device\n"
     ]
    },
    {
     "data": {
      "application/vnd.jupyter.widget-view+json": {
       "model_id": "9741fc582c0c4dd68dacef0f03416960",
       "version_major": 2,
       "version_minor": 0
      },
      "text/plain": [
       "Output()"
      ]
     },
     "metadata": {},
     "output_type": "display_data"
    },
    {
     "name": "stdout",
     "output_type": "stream",
     "text": [
      "---------------------------------\n",
      "| time/              |          |\n",
      "|    episodes        | 10       |\n",
      "|    fps             | 98       |\n",
      "|    time_elapsed    | 72       |\n",
      "|    total_timesteps | 7120     |\n",
      "| train/             |          |\n",
      "|    actor_loss      | 3.95     |\n",
      "|    critic_loss     | 0.451    |\n",
      "|    learning_rate   | 0.001    |\n",
      "|    n_updates       | 7019     |\n",
      "---------------------------------\n"
     ]
    },
    {
     "name": "stdout",
     "output_type": "stream",
     "text": [
      "---------------------------------\n",
      "| time/              |          |\n",
      "|    episodes        | 20       |\n",
      "|    fps             | 97       |\n",
      "|    time_elapsed    | 130      |\n",
      "|    total_timesteps | 12736    |\n",
      "| train/             |          |\n",
      "|    actor_loss      | -2.5     |\n",
      "|    critic_loss     | 0.215    |\n",
      "|    learning_rate   | 0.001    |\n",
      "|    n_updates       | 12635    |\n",
      "---------------------------------\n"
     ]
    },
    {
     "name": "stdout",
     "output_type": "stream",
     "text": [
      "---------------------------------\n",
      "| time/              |          |\n",
      "|    episodes        | 30       |\n",
      "|    fps             | 96       |\n",
      "|    time_elapsed    | 172      |\n",
      "|    total_timesteps | 16616    |\n",
      "| train/             |          |\n",
      "|    actor_loss      | -5.54    |\n",
      "|    critic_loss     | 0.0662   |\n",
      "|    learning_rate   | 0.001    |\n",
      "|    n_updates       | 16515    |\n",
      "---------------------------------\n"
     ]
    },
    {
     "name": "stdout",
     "output_type": "stream",
     "text": [
      "---------------------------------\n",
      "| time/              |          |\n",
      "|    episodes        | 40       |\n",
      "|    fps             | 93       |\n",
      "|    time_elapsed    | 219      |\n",
      "|    total_timesteps | 20494    |\n",
      "| train/             |          |\n",
      "|    actor_loss      | -7.17    |\n",
      "|    critic_loss     | 0.186    |\n",
      "|    learning_rate   | 0.001    |\n",
      "|    n_updates       | 20393    |\n",
      "---------------------------------\n"
     ]
    },
    {
     "name": "stdout",
     "output_type": "stream",
     "text": [
      "---------------------------------\n",
      "| time/              |          |\n",
      "|    episodes        | 50       |\n",
      "|    fps             | 92       |\n",
      "|    time_elapsed    | 291      |\n",
      "|    total_timesteps | 26948    |\n",
      "| train/             |          |\n",
      "|    actor_loss      | -10.9    |\n",
      "|    critic_loss     | 0.112    |\n",
      "|    learning_rate   | 0.001    |\n",
      "|    n_updates       | 26847    |\n",
      "---------------------------------\n"
     ]
    },
    {
     "name": "stdout",
     "output_type": "stream",
     "text": [
      "---------------------------------\n",
      "| time/              |          |\n",
      "|    episodes        | 60       |\n",
      "|    fps             | 92       |\n",
      "|    time_elapsed    | 297      |\n",
      "|    total_timesteps | 27544    |\n",
      "| train/             |          |\n",
      "|    actor_loss      | -12.2    |\n",
      "|    critic_loss     | 2.15     |\n",
      "|    learning_rate   | 0.001    |\n",
      "|    n_updates       | 27443    |\n",
      "---------------------------------\n"
     ]
    },
    {
     "name": "stdout",
     "output_type": "stream",
     "text": [
      "---------------------------------\n",
      "| time/              |          |\n",
      "|    episodes        | 70       |\n",
      "|    fps             | 92       |\n",
      "|    time_elapsed    | 335      |\n",
      "|    total_timesteps | 31188    |\n",
      "| train/             |          |\n",
      "|    actor_loss      | -12.3    |\n",
      "|    critic_loss     | 0.844    |\n",
      "|    learning_rate   | 0.001    |\n",
      "|    n_updates       | 31087    |\n",
      "---------------------------------\n"
     ]
    },
    {
     "name": "stdout",
     "output_type": "stream",
     "text": [
      "---------------------------------\n",
      "| time/              |          |\n",
      "|    episodes        | 80       |\n",
      "|    fps             | 93       |\n",
      "|    time_elapsed    | 398      |\n",
      "|    total_timesteps | 37321    |\n",
      "| train/             |          |\n",
      "|    actor_loss      | -15.4    |\n",
      "|    critic_loss     | 0.106    |\n",
      "|    learning_rate   | 0.001    |\n",
      "|    n_updates       | 37220    |\n",
      "---------------------------------\n"
     ]
    },
    {
     "name": "stdout",
     "output_type": "stream",
     "text": [
      "---------------------------------\n",
      "| time/              |          |\n",
      "|    episodes        | 90       |\n",
      "|    fps             | 94       |\n",
      "|    time_elapsed    | 444      |\n",
      "|    total_timesteps | 41783    |\n",
      "| train/             |          |\n",
      "|    actor_loss      | -16.7    |\n",
      "|    critic_loss     | 0.149    |\n",
      "|    learning_rate   | 0.001    |\n",
      "|    n_updates       | 41682    |\n",
      "---------------------------------\n"
     ]
    },
    {
     "name": "stdout",
     "output_type": "stream",
     "text": [
      "---------------------------------\n",
      "| time/              |          |\n",
      "|    episodes        | 100      |\n",
      "|    fps             | 93       |\n",
      "|    time_elapsed    | 464      |\n",
      "|    total_timesteps | 43662    |\n",
      "| train/             |          |\n",
      "|    actor_loss      | -16.6    |\n",
      "|    critic_loss     | 4.72     |\n",
      "|    learning_rate   | 0.001    |\n",
      "|    n_updates       | 43561    |\n",
      "---------------------------------\n"
     ]
    },
    {
     "name": "stdout",
     "output_type": "stream",
     "text": [
      "---------------------------------\n",
      "| time/              |          |\n",
      "|    episodes        | 110      |\n",
      "|    fps             | 93       |\n",
      "|    time_elapsed    | 477      |\n",
      "|    total_timesteps | 44790    |\n",
      "| train/             |          |\n",
      "|    actor_loss      | -15.9    |\n",
      "|    critic_loss     | 0.462    |\n",
      "|    learning_rate   | 0.001    |\n",
      "|    n_updates       | 44689    |\n",
      "---------------------------------\n"
     ]
    },
    {
     "name": "stdout",
     "output_type": "stream",
     "text": [
      "---------------------------------\n",
      "| time/              |          |\n",
      "|    episodes        | 120      |\n",
      "|    fps             | 94       |\n",
      "|    time_elapsed    | 520      |\n",
      "|    total_timesteps | 48976    |\n",
      "| train/             |          |\n",
      "|    actor_loss      | -18.7    |\n",
      "|    critic_loss     | 0.183    |\n",
      "|    learning_rate   | 0.001    |\n",
      "|    n_updates       | 48875    |\n",
      "---------------------------------\n"
     ]
    },
    {
     "data": {
      "text/html": [
       "<pre style=\"white-space:pre;overflow-x:auto;line-height:normal;font-family:Menlo,'DejaVu Sans Mono',consolas,'Courier New',monospace\"></pre>\n"
      ],
      "text/plain": []
     },
     "metadata": {},
     "output_type": "display_data"
    },
    {
     "data": {
      "text/html": [
       "<pre style=\"white-space:pre;overflow-x:auto;line-height:normal;font-family:Menlo,'DejaVu Sans Mono',consolas,'Courier New',monospace\">\n",
       "</pre>\n"
      ],
      "text/plain": [
       "\n"
      ]
     },
     "metadata": {},
     "output_type": "display_data"
    }
   ],
   "source": [
    "#Use SAC from stable baselines\n",
    "from stable_baselines3 import TD3\n",
    "from stable_baselines3.sac.policies import MlpPolicy, MultiInputPolicy\n",
    "from stable_baselines3.common.vec_env import DummyVecEnv\n",
    "from stable_baselines3.common.noise import NormalActionNoise, OrnsteinUhlenbeckActionNoise\n",
    "\n",
    "env = CompressionEnv()\n",
    "env = DummyVecEnv([lambda: env])\n",
    "\n",
    "n_actions = env.action_space.shape[-1]\n",
    "action_noise = NormalActionNoise(mean=np.zeros(n_actions), sigma=0.1 * np.ones(n_actions))\n",
    "\n",
    "#Add progress bar for learning\n",
    "model = TD3('MlpPolicy', env, action_noise=action_noise, verbose=1)\n",
    "model3 = model.learn(total_timesteps=50000, progress_bar=True, log_interval=10)\n"
   ]
  },
  {
   "cell_type": "code",
   "execution_count": 38,
   "metadata": {},
   "outputs": [
    {
     "data": {
      "application/vnd.jupyter.widget-view+json": {
       "model_id": "d74dc37d8fe040b9a4c31cd99d774fc2",
       "version_major": 2,
       "version_minor": 0
      },
      "text/plain": [
       "Output()"
      ]
     },
     "metadata": {},
     "output_type": "display_data"
    },
    {
     "name": "stdout",
     "output_type": "stream",
     "text": [
      "---------------------------------\n",
      "| time/              |          |\n",
      "|    episodes        | 40       |\n",
      "|    fps             | 97       |\n",
      "|    time_elapsed    | 139      |\n",
      "|    total_timesteps | 13640    |\n",
      "| train/             |          |\n",
      "|    actor_loss      | -20      |\n",
      "|    critic_loss     | 0.16     |\n",
      "|    learning_rate   | 0.001    |\n",
      "|    n_updates       | 63439    |\n",
      "---------------------------------\n"
     ]
    },
    {
     "name": "stdout",
     "output_type": "stream",
     "text": [
      "---------------------------------\n",
      "| time/              |          |\n",
      "|    episodes        | 80       |\n",
      "|    fps             | 96       |\n",
      "|    time_elapsed    | 264      |\n",
      "|    total_timesteps | 25549    |\n",
      "| train/             |          |\n",
      "|    actor_loss      | -24.5    |\n",
      "|    critic_loss     | 0.205    |\n",
      "|    learning_rate   | 0.001    |\n",
      "|    n_updates       | 75348    |\n",
      "---------------------------------\n"
     ]
    },
    {
     "name": "stdout",
     "output_type": "stream",
     "text": [
      "---------------------------------\n",
      "| time/              |          |\n",
      "|    episodes        | 120      |\n",
      "|    fps             | 96       |\n",
      "|    time_elapsed    | 336      |\n",
      "|    total_timesteps | 32414    |\n",
      "| train/             |          |\n",
      "|    actor_loss      | -21.7    |\n",
      "|    critic_loss     | 0.213    |\n",
      "|    learning_rate   | 0.001    |\n",
      "|    n_updates       | 82213    |\n",
      "---------------------------------\n"
     ]
    },
    {
     "name": "stdout",
     "output_type": "stream",
     "text": [
      "---------------------------------\n",
      "| time/              |          |\n",
      "|    episodes        | 160      |\n",
      "|    fps             | 95       |\n",
      "|    time_elapsed    | 481      |\n",
      "|    total_timesteps | 45876    |\n",
      "| train/             |          |\n",
      "|    actor_loss      | -24.2    |\n",
      "|    critic_loss     | 0.166    |\n",
      "|    learning_rate   | 0.001    |\n",
      "|    n_updates       | 95675    |\n",
      "---------------------------------\n"
     ]
    },
    {
     "name": "stdout",
     "output_type": "stream",
     "text": [
      "---------------------------------\n",
      "| time/              |          |\n",
      "|    episodes        | 200      |\n",
      "|    fps             | 95       |\n",
      "|    time_elapsed    | 656      |\n",
      "|    total_timesteps | 62738    |\n",
      "| train/             |          |\n",
      "|    actor_loss      | -28      |\n",
      "|    critic_loss     | 0.0917   |\n",
      "|    learning_rate   | 0.001    |\n",
      "|    n_updates       | 112537   |\n",
      "---------------------------------\n"
     ]
    },
    {
     "name": "stdout",
     "output_type": "stream",
     "text": [
      "---------------------------------\n",
      "| time/              |          |\n",
      "|    episodes        | 240      |\n",
      "|    fps             | 94       |\n",
      "|    time_elapsed    | 730      |\n",
      "|    total_timesteps | 69298    |\n",
      "| train/             |          |\n",
      "|    actor_loss      | -24      |\n",
      "|    critic_loss     | 0.202    |\n",
      "|    learning_rate   | 0.001    |\n",
      "|    n_updates       | 119097   |\n",
      "---------------------------------\n"
     ]
    },
    {
     "name": "stdout",
     "output_type": "stream",
     "text": [
      "---------------------------------\n",
      "| time/              |          |\n",
      "|    episodes        | 280      |\n",
      "|    fps             | 94       |\n",
      "|    time_elapsed    | 851      |\n",
      "|    total_timesteps | 80444    |\n",
      "| train/             |          |\n",
      "|    actor_loss      | -24.3    |\n",
      "|    critic_loss     | 0.152    |\n",
      "|    learning_rate   | 0.001    |\n",
      "|    n_updates       | 130243   |\n",
      "---------------------------------\n"
     ]
    },
    {
     "name": "stdout",
     "output_type": "stream",
     "text": [
      "---------------------------------\n",
      "| time/              |          |\n",
      "|    episodes        | 320      |\n",
      "|    fps             | 94       |\n",
      "|    time_elapsed    | 927      |\n",
      "|    total_timesteps | 87672    |\n",
      "| train/             |          |\n",
      "|    actor_loss      | -23.2    |\n",
      "|    critic_loss     | 0.146    |\n",
      "|    learning_rate   | 0.001    |\n",
      "|    n_updates       | 137471   |\n",
      "---------------------------------\n"
     ]
    },
    {
     "name": "stdout",
     "output_type": "stream",
     "text": [
      "---------------------------------\n",
      "| time/              |          |\n",
      "|    episodes        | 360      |\n",
      "|    fps             | 94       |\n",
      "|    time_elapsed    | 1063     |\n",
      "|    total_timesteps | 100569   |\n",
      "| train/             |          |\n",
      "|    actor_loss      | -26.8    |\n",
      "|    critic_loss     | 0.103    |\n",
      "|    learning_rate   | 0.001    |\n",
      "|    n_updates       | 150368   |\n",
      "---------------------------------\n"
     ]
    },
    {
     "name": "stdout",
     "output_type": "stream",
     "text": [
      "---------------------------------\n",
      "| time/              |          |\n",
      "|    episodes        | 400      |\n",
      "|    fps             | 94       |\n",
      "|    time_elapsed    | 1221     |\n",
      "|    total_timesteps | 115790   |\n",
      "| train/             |          |\n",
      "|    actor_loss      | -24      |\n",
      "|    critic_loss     | 0.118    |\n",
      "|    learning_rate   | 0.001    |\n",
      "|    n_updates       | 165589   |\n",
      "---------------------------------\n"
     ]
    },
    {
     "name": "stdout",
     "output_type": "stream",
     "text": [
      "---------------------------------\n",
      "| time/              |          |\n",
      "|    episodes        | 440      |\n",
      "|    fps             | 94       |\n",
      "|    time_elapsed    | 1405     |\n",
      "|    total_timesteps | 133505   |\n",
      "| train/             |          |\n",
      "|    actor_loss      | -26.7    |\n",
      "|    critic_loss     | 0.299    |\n",
      "|    learning_rate   | 0.001    |\n",
      "|    n_updates       | 183304   |\n",
      "---------------------------------\n"
     ]
    },
    {
     "name": "stdout",
     "output_type": "stream",
     "text": [
      "---------------------------------\n",
      "| time/              |          |\n",
      "|    episodes        | 480      |\n",
      "|    fps             | 94       |\n",
      "|    time_elapsed    | 1538     |\n",
      "|    total_timesteps | 145821   |\n",
      "| train/             |          |\n",
      "|    actor_loss      | -27      |\n",
      "|    critic_loss     | 0.226    |\n",
      "|    learning_rate   | 0.001    |\n",
      "|    n_updates       | 195620   |\n",
      "---------------------------------\n"
     ]
    },
    {
     "name": "stdout",
     "output_type": "stream",
     "text": [
      "---------------------------------\n",
      "| time/              |          |\n",
      "|    episodes        | 520      |\n",
      "|    fps             | 94       |\n",
      "|    time_elapsed    | 1641     |\n",
      "|    total_timesteps | 155545   |\n",
      "| train/             |          |\n",
      "|    actor_loss      | -28.3    |\n",
      "|    critic_loss     | 0.119    |\n",
      "|    learning_rate   | 0.001    |\n",
      "|    n_updates       | 205344   |\n",
      "---------------------------------\n"
     ]
    },
    {
     "name": "stdout",
     "output_type": "stream",
     "text": [
      "---------------------------------\n",
      "| time/              |          |\n",
      "|    episodes        | 560      |\n",
      "|    fps             | 94       |\n",
      "|    time_elapsed    | 1867     |\n",
      "|    total_timesteps | 177030   |\n",
      "| train/             |          |\n",
      "|    actor_loss      | -25.9    |\n",
      "|    critic_loss     | 0.164    |\n",
      "|    learning_rate   | 0.001    |\n",
      "|    n_updates       | 226829   |\n",
      "---------------------------------\n"
     ]
    },
    {
     "name": "stdout",
     "output_type": "stream",
     "text": [
      "---------------------------------\n",
      "| time/              |          |\n",
      "|    episodes        | 600      |\n",
      "|    fps             | 94       |\n",
      "|    time_elapsed    | 2031     |\n",
      "|    total_timesteps | 192441   |\n",
      "| train/             |          |\n",
      "|    actor_loss      | -27      |\n",
      "|    critic_loss     | 0.162    |\n",
      "|    learning_rate   | 0.001    |\n",
      "|    n_updates       | 242240   |\n",
      "---------------------------------\n"
     ]
    },
    {
     "data": {
      "text/html": [
       "<pre style=\"white-space:pre;overflow-x:auto;line-height:normal;font-family:Menlo,'DejaVu Sans Mono',consolas,'Courier New',monospace\"></pre>\n"
      ],
      "text/plain": []
     },
     "metadata": {},
     "output_type": "display_data"
    },
    {
     "data": {
      "text/html": [
       "<pre style=\"white-space:pre;overflow-x:auto;line-height:normal;font-family:Menlo,'DejaVu Sans Mono',consolas,'Courier New',monospace\">\n",
       "</pre>\n"
      ],
      "text/plain": [
       "\n"
      ]
     },
     "metadata": {},
     "output_type": "display_data"
    }
   ],
   "source": [
    "model3 = model.learn(total_timesteps=200000, progress_bar=True, log_interval=40)\n"
   ]
  },
  {
   "cell_type": "code",
   "execution_count": null,
   "metadata": {},
   "outputs": [],
   "source": [
    "#save the model\n",
    "model.save(\"TD3_CompressionEnv\")"
   ]
  },
  {
   "cell_type": "code",
   "execution_count": null,
   "metadata": {},
   "outputs": [],
   "source": [
    "model2 = TD3('MlpPolicy', env, action_noise=action_noise, verbose=1)"
   ]
  },
  {
   "cell_type": "code",
   "execution_count": null,
   "metadata": {},
   "outputs": [],
   "source": [
    "import tensorflow as tf\n",
    "tf.config.list_physical_devices('GPU')"
   ]
  },
  {
   "cell_type": "code",
   "execution_count": 67,
   "metadata": {},
   "outputs": [
    {
     "name": "stdout",
     "output_type": "stream",
     "text": [
      "art-price.csv\n",
      "network.csv\n",
      "58.197564276048716\n",
      "3.3594772710145313\n",
      "1.6752062924936362\n"
     ]
    }
   ],
   "source": [
    "env = CompressionEnv()\n",
    "obs, _ = env.reset()\n",
    "\n",
    "print(env.timestamps_ratio)\n",
    "\n",
    "action, _states = model.predict(obs)\n",
    "state, reward, done, truncated, info = env.step(action)\n",
    "sum = reward\n",
    "ct = 1\n",
    "ratio = 0\n",
    "original = 0\n",
    "while not done:\n",
    "    action, _state = model.predict(state)\n",
    "    state, reward, done, truncarted, info = env.step(action)\n",
    "    ratio += len(info['block']) + len(info['params'])\n",
    "    original += 32 * 64\n",
    "    #print(reward)\n",
    "    sum += reward\n",
    "    ct += 1\n",
    "print((original  + len(env.timestamps) * 64) / (ratio + 1 / env.timestamps_ratio * len(env.timestamps) + 128))\n",
    "print(original / ratio)"
   ]
  },
  {
   "cell_type": "code",
   "execution_count": null,
   "metadata": {},
   "outputs": [],
   "source": [
    "from transform_primitives import xor, delta_xor, delta, delta_of_delta, rev_delta, rev_delta_of_delta\n",
    "from compression_primitives import bitmask, offset, trailing_zero\n",
    "env = CompressionEnv()\n",
    "#env.get_ts()\n",
    "print(env.metrics[0])\n",
    "sample = env.metrics[0]\n",
    "prev = env.last_2_metric\n",
    "print(prev)\n",
    "transformers = [delta, delta_of_delta, rev_delta, rev_delta_of_delta]\n",
    "avg = 0\n",
    "ct = 0\n",
    "for j in range(len(env.metrics)):\n",
    "    sample = env.metrics[j]\n",
    "    for i in range(len(sample)):\n",
    "        ct += 1\n",
    "        mini = 64\n",
    "        for t in transformers:\n",
    "            val = t(prev[0], prev[1], sample[i])\n",
    "            val = int(num_to_bits(val), 2)\n",
    "            mini = min(mini, bitmask(val, 0), offset(val, 0), trailing_zero(val), offset(val, 1), offset(val, 2), bitmask(val, 1))\n",
    "        avg += mini\n",
    "        prev[0] = prev[1]\n",
    "        prev[1] = sample[i]\n",
    "print(avg / ct)\n",
    "#daily-temperature 61.26 avg\n",
    "#gold 61.82"
   ]
  },
  {
   "cell_type": "code",
   "execution_count": null,
   "metadata": {},
   "outputs": [],
   "source": [
    "action = [3, 0, 1, 3, 0, 1, 0, 0, 0, 0]\n",
    "env2 = CompressionEnv()\n",
    "print(env2.state)\n",
    "state, reward, done, truncated, info = env2.step(action)\n",
    "print(reward)"
   ]
  },
  {
   "cell_type": "code",
   "execution_count": null,
   "metadata": {},
   "outputs": [],
   "source": [
    "df = pd.read_csv('Gold.csv')\n",
    "x = pd.to_datetime(df['DATE'], format='%Y/%m/%d')\n",
    "print(x.astype(np.int64))"
   ]
  },
  {
   "cell_type": "code",
   "execution_count": null,
   "metadata": {},
   "outputs": [],
   "source": [
    "from utilities import int_to_bits, float_to_bits\n",
    "print(int_to_bits(57), float_to_bits(2.257))"
   ]
  }
 ],
 "metadata": {
  "kernelspec": {
   "display_name": "Python 3",
   "language": "python",
   "name": "python3"
  },
  "language_info": {
   "codemirror_mode": {
    "name": "ipython",
    "version": 3
   },
   "file_extension": ".py",
   "mimetype": "text/x-python",
   "name": "python",
   "nbconvert_exporter": "python",
   "pygments_lexer": "ipython3",
   "version": "3.10.12"
  }
 },
 "nbformat": 4,
 "nbformat_minor": 2
}
